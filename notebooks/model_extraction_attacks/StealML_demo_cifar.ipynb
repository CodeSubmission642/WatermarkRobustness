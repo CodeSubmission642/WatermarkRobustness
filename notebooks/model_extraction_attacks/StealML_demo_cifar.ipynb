{
 "cells": [
  {
   "cell_type": "code",
   "execution_count": 1,
   "metadata": {
    "scrolled": true
   },
   "outputs": [
    {
     "name": "stderr",
     "output_type": "stream",
     "text": [
      "/home/y2536zha/anaconda3/envs/watermark/lib/python3.7/site-packages/tensorflow/python/framework/dtypes.py:516: FutureWarning: Passing (type, 1) or '1type' as a synonym of type is deprecated; in a future version of numpy, it will be understood as (type, (1,)) / '(1,)type'.\n",
      "  _np_qint8 = np.dtype([(\"qint8\", np.int8, 1)])\n",
      "/home/y2536zha/anaconda3/envs/watermark/lib/python3.7/site-packages/tensorflow/python/framework/dtypes.py:517: FutureWarning: Passing (type, 1) or '1type' as a synonym of type is deprecated; in a future version of numpy, it will be understood as (type, (1,)) / '(1,)type'.\n",
      "  _np_quint8 = np.dtype([(\"quint8\", np.uint8, 1)])\n",
      "/home/y2536zha/anaconda3/envs/watermark/lib/python3.7/site-packages/tensorflow/python/framework/dtypes.py:518: FutureWarning: Passing (type, 1) or '1type' as a synonym of type is deprecated; in a future version of numpy, it will be understood as (type, (1,)) / '(1,)type'.\n",
      "  _np_qint16 = np.dtype([(\"qint16\", np.int16, 1)])\n",
      "/home/y2536zha/anaconda3/envs/watermark/lib/python3.7/site-packages/tensorflow/python/framework/dtypes.py:519: FutureWarning: Passing (type, 1) or '1type' as a synonym of type is deprecated; in a future version of numpy, it will be understood as (type, (1,)) / '(1,)type'.\n",
      "  _np_quint16 = np.dtype([(\"quint16\", np.uint16, 1)])\n",
      "/home/y2536zha/anaconda3/envs/watermark/lib/python3.7/site-packages/tensorflow/python/framework/dtypes.py:520: FutureWarning: Passing (type, 1) or '1type' as a synonym of type is deprecated; in a future version of numpy, it will be understood as (type, (1,)) / '(1,)type'.\n",
      "  _np_qint32 = np.dtype([(\"qint32\", np.int32, 1)])\n",
      "/home/y2536zha/anaconda3/envs/watermark/lib/python3.7/site-packages/tensorflow/python/framework/dtypes.py:525: FutureWarning: Passing (type, 1) or '1type' as a synonym of type is deprecated; in a future version of numpy, it will be understood as (type, (1,)) / '(1,)type'.\n",
      "  np_resource = np.dtype([(\"resource\", np.ubyte, 1)])\n",
      "/home/y2536zha/anaconda3/envs/watermark/lib/python3.7/site-packages/tensorboard/compat/tensorflow_stub/dtypes.py:541: FutureWarning: Passing (type, 1) or '1type' as a synonym of type is deprecated; in a future version of numpy, it will be understood as (type, (1,)) / '(1,)type'.\n",
      "  _np_qint8 = np.dtype([(\"qint8\", np.int8, 1)])\n",
      "/home/y2536zha/anaconda3/envs/watermark/lib/python3.7/site-packages/tensorboard/compat/tensorflow_stub/dtypes.py:542: FutureWarning: Passing (type, 1) or '1type' as a synonym of type is deprecated; in a future version of numpy, it will be understood as (type, (1,)) / '(1,)type'.\n",
      "  _np_quint8 = np.dtype([(\"quint8\", np.uint8, 1)])\n",
      "/home/y2536zha/anaconda3/envs/watermark/lib/python3.7/site-packages/tensorboard/compat/tensorflow_stub/dtypes.py:543: FutureWarning: Passing (type, 1) or '1type' as a synonym of type is deprecated; in a future version of numpy, it will be understood as (type, (1,)) / '(1,)type'.\n",
      "  _np_qint16 = np.dtype([(\"qint16\", np.int16, 1)])\n",
      "/home/y2536zha/anaconda3/envs/watermark/lib/python3.7/site-packages/tensorboard/compat/tensorflow_stub/dtypes.py:544: FutureWarning: Passing (type, 1) or '1type' as a synonym of type is deprecated; in a future version of numpy, it will be understood as (type, (1,)) / '(1,)type'.\n",
      "  _np_quint16 = np.dtype([(\"quint16\", np.uint16, 1)])\n",
      "/home/y2536zha/anaconda3/envs/watermark/lib/python3.7/site-packages/tensorboard/compat/tensorflow_stub/dtypes.py:545: FutureWarning: Passing (type, 1) or '1type' as a synonym of type is deprecated; in a future version of numpy, it will be understood as (type, (1,)) / '(1,)type'.\n",
      "  _np_qint32 = np.dtype([(\"qint32\", np.int32, 1)])\n",
      "/home/y2536zha/anaconda3/envs/watermark/lib/python3.7/site-packages/tensorboard/compat/tensorflow_stub/dtypes.py:550: FutureWarning: Passing (type, 1) or '1type' as a synonym of type is deprecated; in a future version of numpy, it will be understood as (type, (1,)) / '(1,)type'.\n",
      "  np_resource = np.dtype([(\"resource\", np.ubyte, 1)])\n"
     ]
    }
   ],
   "source": [
    "from tensorflow import keras"
   ]
  },
  {
   "cell_type": "code",
   "execution_count": 2,
   "metadata": {},
   "outputs": [],
   "source": [
    "from sklearn.model_selection import train_test_split\n",
    "from sklearn.utils import class_weight\n",
    "from IPython.core.interactiveshell import InteractiveShell\n",
    "from time import time\n",
    "from copy import deepcopy\n",
    "import pandas as pd\n",
    "\n",
    "import matplotlib as plt\n",
    "\n",
    "InteractiveShell.ast_node_interactivity = \"all\"\n",
    "pd.options.display.max_columns = None\n",
    "pd.set_option('display.max_rows', 100)\n",
    "pd.set_option('display.max_rows', 100)"
   ]
  },
  {
   "cell_type": "code",
   "execution_count": 3,
   "metadata": {
    "scrolled": true
   },
   "outputs": [
    {
     "name": "stdout",
     "output_type": "stream",
     "text": [
      "WARNING:tensorflow:From /home/y2536zha/anaconda3/envs/watermark/lib/python3.7/site-packages/tensorflow/python/ops/init_ops.py:1251: calling VarianceScaling.__init__ (from tensorflow.python.ops.init_ops) with dtype is deprecated and will be removed in a future version.\n",
      "Instructions for updating:\n",
      "Call initializer instance with the dtype argument instead of passing it to the constructor\n",
      "WARNING:tensorflow:From /home/y2536zha/anaconda3/envs/watermark/lib/python3.7/site-packages/tensorflow/python/ops/nn_impl.py:180: add_dispatch_support.<locals>.wrapper (from tensorflow.python.ops.array_ops) is deprecated and will be removed in a future version.\n",
      "Instructions for updating:\n",
      "Use tf.where in 2.0, which has the same broadcast rule as np.where\n"
     ]
    },
    {
     "name": "stderr",
     "output_type": "stream",
     "text": [
      "Using TensorFlow backend.\n"
     ]
    }
   ],
   "source": [
    "%matplotlib inline \n",
    "import sys, os\n",
    "base_path = os.getcwd()[0:os.getcwd().rfind('Watermark')] + \"Watermark/\"\n",
    "sys.path.append(base_path) \n",
    "\n",
    "import matplotlib.pyplot as plt\n",
    "from src.asiaccs_main import asiaccs_blackbox\n",
    "from src.models import get_deep_cnn_for_cifar, get_lenet_model_for_mnist\n",
    "from src.preprocess_data import load_cifar_images, load_mnist_images\n",
    "from src.util import plot_blackbox"
   ]
  },
  {
   "cell_type": "code",
   "execution_count": 4,
   "metadata": {},
   "outputs": [],
   "source": [
    "train, test = load_cifar_images()"
   ]
  },
  {
   "cell_type": "code",
   "execution_count": 5,
   "metadata": {},
   "outputs": [],
   "source": [
    "x_train, y_train = train\n",
    "x_test, y_test = test"
   ]
  },
  {
   "cell_type": "code",
   "execution_count": 6,
   "metadata": {},
   "outputs": [],
   "source": [
    "x_train_original = x_train[:25000]\n",
    "x_train_surrogate = x_train[25000:]\n",
    "\n",
    "y_train_original = y_train[:25000]\n",
    "y_train_surrogate = y_train[25000:]"
   ]
  },
  {
   "cell_type": "code",
   "execution_count": 7,
   "metadata": {},
   "outputs": [],
   "source": [
    "del x_train\n",
    "del y_train"
   ]
  },
  {
   "cell_type": "code",
   "execution_count": 8,
   "metadata": {},
   "outputs": [
    {
     "data": {
      "text/plain": [
       "(25000, 32, 32, 3)"
      ]
     },
     "execution_count": 8,
     "metadata": {},
     "output_type": "execute_result"
    },
    {
     "data": {
      "text/plain": [
       "(25000, 10)"
      ]
     },
     "execution_count": 8,
     "metadata": {},
     "output_type": "execute_result"
    },
    {
     "data": {
      "text/plain": [
       "(25000, 32, 32, 3)"
      ]
     },
     "execution_count": 8,
     "metadata": {},
     "output_type": "execute_result"
    },
    {
     "data": {
      "text/plain": [
       "(25000, 10)"
      ]
     },
     "execution_count": 8,
     "metadata": {},
     "output_type": "execute_result"
    },
    {
     "data": {
      "text/plain": [
       "(10000, 32, 32, 3)"
      ]
     },
     "execution_count": 8,
     "metadata": {},
     "output_type": "execute_result"
    },
    {
     "data": {
      "text/plain": [
       "(10000, 10)"
      ]
     },
     "execution_count": 8,
     "metadata": {},
     "output_type": "execute_result"
    }
   ],
   "source": [
    "x_train_original.shape\n",
    "y_train_original.shape\n",
    "\n",
    "x_train_surrogate.shape\n",
    "y_train_surrogate.shape\n",
    "\n",
    "x_test.shape\n",
    "y_test.shape"
   ]
  },
  {
   "cell_type": "code",
   "execution_count": 9,
   "metadata": {},
   "outputs": [],
   "source": [
    "model_original = get_deep_cnn_for_cifar() "
   ]
  },
  {
   "cell_type": "code",
   "execution_count": 10,
   "metadata": {},
   "outputs": [],
   "source": [
    "model_original.load_weights('model/best_cifar_model.h5') # original model is trained on x_train_original only"
   ]
  },
  {
   "cell_type": "code",
   "execution_count": 11,
   "metadata": {
    "scrolled": true
   },
   "outputs": [
    {
     "name": "stdout",
     "output_type": "stream",
     "text": [
      "Model: \"sequential_1\"\n",
      "_________________________________________________________________\n",
      "Layer (type)                 Output Shape              Param #   \n",
      "=================================================================\n",
      "conv2d (Conv2D)              (None, 32, 32, 32)        896       \n",
      "_________________________________________________________________\n",
      "batch_normalization (BatchNo (None, 32, 32, 32)        128       \n",
      "_________________________________________________________________\n",
      "conv2d_1 (Conv2D)            (None, 32, 32, 32)        9248      \n",
      "_________________________________________________________________\n",
      "batch_normalization_1 (Batch (None, 32, 32, 32)        128       \n",
      "_________________________________________________________________\n",
      "max_pooling2d (MaxPooling2D) (None, 16, 16, 32)        0         \n",
      "_________________________________________________________________\n",
      "dropout (Dropout)            (None, 16, 16, 32)        0         \n",
      "_________________________________________________________________\n",
      "conv2d_2 (Conv2D)            (None, 16, 16, 64)        18496     \n",
      "_________________________________________________________________\n",
      "batch_normalization_2 (Batch (None, 16, 16, 64)        256       \n",
      "_________________________________________________________________\n",
      "conv2d_3 (Conv2D)            (None, 16, 16, 64)        36928     \n",
      "_________________________________________________________________\n",
      "batch_normalization_3 (Batch (None, 16, 16, 64)        256       \n",
      "_________________________________________________________________\n",
      "max_pooling2d_1 (MaxPooling2 (None, 8, 8, 64)          0         \n",
      "_________________________________________________________________\n",
      "dropout_1 (Dropout)          (None, 8, 8, 64)          0         \n",
      "_________________________________________________________________\n",
      "conv2d_4 (Conv2D)            (None, 8, 8, 128)         73856     \n",
      "_________________________________________________________________\n",
      "batch_normalization_4 (Batch (None, 8, 8, 128)         512       \n",
      "_________________________________________________________________\n",
      "conv2d_5 (Conv2D)            (None, 8, 8, 128)         147584    \n",
      "_________________________________________________________________\n",
      "batch_normalization_5 (Batch (None, 8, 8, 128)         512       \n",
      "_________________________________________________________________\n",
      "max_pooling2d_2 (MaxPooling2 (None, 4, 4, 128)         0         \n",
      "_________________________________________________________________\n",
      "dropout_2 (Dropout)          (None, 4, 4, 128)         0         \n",
      "_________________________________________________________________\n",
      "flatten (Flatten)            (None, 2048)              0         \n",
      "_________________________________________________________________\n",
      "dense_3 (Dense)              (None, 512)               1049088   \n",
      "_________________________________________________________________\n",
      "batch_normalization_6 (Batch (None, 512)               2048      \n",
      "_________________________________________________________________\n",
      "dropout_3 (Dropout)          (None, 512)               0         \n",
      "_________________________________________________________________\n",
      "dense_4 (Dense)              (None, 10)                5130      \n",
      "=================================================================\n",
      "Total params: 1,345,066\n",
      "Trainable params: 1,343,146\n",
      "Non-trainable params: 1,920\n",
      "_________________________________________________________________\n"
     ]
    }
   ],
   "source": [
    "model_original.summary()"
   ]
  },
  {
   "cell_type": "code",
   "execution_count": 12,
   "metadata": {},
   "outputs": [
    {
     "data": {
      "text/plain": [
       "28"
      ]
     },
     "execution_count": 12,
     "metadata": {},
     "output_type": "execute_result"
    }
   ],
   "source": [
    "import gc\n",
    "gc.collect()"
   ]
  },
  {
   "cell_type": "code",
   "execution_count": 13,
   "metadata": {},
   "outputs": [
    {
     "data": {
      "text/plain": [
       "160"
      ]
     },
     "execution_count": 13,
     "metadata": {},
     "output_type": "execute_result"
    }
   ],
   "source": [
    "import multiprocessing\n",
    "\n",
    "multiprocessing.cpu_count()"
   ]
  },
  {
   "cell_type": "code",
   "execution_count": 14,
   "metadata": {},
   "outputs": [
    {
     "name": "stdout",
     "output_type": "stream",
     "text": [
      "10000/10000 [==============================] - 4s 439us/sample - loss: 1.0945 - acc: 0.7595\n"
     ]
    },
    {
     "data": {
      "text/plain": [
       "[1.0945178151130677, 0.7595]"
      ]
     },
     "execution_count": 14,
     "metadata": {},
     "output_type": "execute_result"
    }
   ],
   "source": [
    "# check model_original performance\n",
    "model_original.evaluate(x_test, y_test, batch_size = 1000)"
   ]
  },
  {
   "cell_type": "code",
   "execution_count": 15,
   "metadata": {},
   "outputs": [
    {
     "data": {
      "text/plain": [
       "29"
      ]
     },
     "execution_count": 15,
     "metadata": {},
     "output_type": "execute_result"
    }
   ],
   "source": [
    "gc.collect()"
   ]
  },
  {
   "cell_type": "markdown",
   "metadata": {},
   "source": [
    "## Implementation for StealML"
   ]
  },
  {
   "cell_type": "code",
   "execution_count": 16,
   "metadata": {},
   "outputs": [],
   "source": [
    "class TerminateOnBaseline(keras.callbacks.Callback):\n",
    "    \"\"\"Callback that terminates training when either acc or val_acc reaches a specified baseline\n",
    "    \"\"\"\n",
    "    def __init__(self, monitor='acc', baseline=0.9):\n",
    "        super(TerminateOnBaseline, self).__init__()\n",
    "        self.monitor = monitor\n",
    "        self.baseline = baseline\n",
    "\n",
    "    def on_epoch_end(self, epoch, logs=None):\n",
    "        logs = logs or {}\n",
    "        acc = logs.get(self.monitor)\n",
    "        if acc is not None:\n",
    "            if acc >= self.baseline:\n",
    "                print('Epoch %d: Reached baseline, terminating training' % (epoch))\n",
    "                self.model.stop_training = True\n",
    "\n",
    "def StealMl(model_original, \n",
    "            model_surrogate_fun, \n",
    "            eval_metric, \n",
    "            delta,\n",
    "            x_train_surrogate, \n",
    "            x_test, \n",
    "            y_test, \n",
    "            path_store_surrogate_model = 'model/best_mnist_model_surrogate.h5',\n",
    "            batch_size_train = 64,\n",
    "            batch_size_eval = 1024, # batch size used to evaluate the model\n",
    "            epochs = 10):\n",
    "    \n",
    "    ''' Parameters:\n",
    "    * model_original: \n",
    "        a keras model instance, the model to be stoled  \n",
    "    * model_surrogate_fun:\n",
    "        fucntion for creating the surrogate model, need to return a keras model instance \n",
    "    * eval_metric:\n",
    "        evaluation metric used, must be one of the metrics used in model_original\n",
    "    * delta: \n",
    "        Self-explaining\n",
    "    * x_train_surrogate: \n",
    "        Self-explaining\n",
    "    * x_test: \n",
    "        Self-explaining \n",
    "    * y_test: \n",
    "        Self-explaining\n",
    "    * path_store_surrogate_model: \n",
    "        path used to store the weights of surrogate model,\n",
    "    * batch_size_train:\n",
    "        batch_size used to train the model\n",
    "    * batch_size_eval:\n",
    "        batch_size used to evaluate the model\n",
    "    * epochs:\n",
    "        training epochs):\n",
    "    '''\n",
    "    \n",
    "    # Check Basic setting\n",
    "    if eval_metric not in model_original.metrics_names:\n",
    "        raise Exception('Error: eval_metric not in the original model')\n",
    "        \n",
    "    eval_metric_index = model_original.metrics_names.index(eval_metric)\n",
    "    model_original_performance = model_original.evaluate(x_test, y_test, batch_size = batch_size_eval, verbose = 0)[eval_metric_index]\n",
    "    \n",
    "    print('Now show basic setting')\n",
    "    print('original model performance:', eval_metric, model_original_performance)\n",
    "    print('use', eval_metric, 'as the evaluation metric,', 'delta = ', delta,\n",
    "      ',stealing will stop as long as the validation', eval_metric, 'achieve', model_original_performance - delta)\n",
    "    \n",
    "    \n",
    "    # Preparation for training\n",
    "    print('Now prepare for training')\n",
    "    y_train_surrogate_pred = model_original.predict(x_train_surrogate)\n",
    "    callbacks = TerminateOnBaseline(monitor = 'val_' + eval_metric, baseline = model_original_performance - delta)\n",
    "    checkpoint_surrogate = keras.callbacks.ModelCheckpoint( path_store_surrogate_model, verbose=1, monitor='val_acc',save_best_only=True, mode='auto') \n",
    "    model_surrogate = model_surrogate_fun()\n",
    "    \n",
    "    # train surrogate model\n",
    "    print('Now start training')\n",
    "    history = model_surrogate.fit(x_train_surrogate,\n",
    "                                  y_train_surrogate_pred,\n",
    "                                  batch_size = batch_size_train, \n",
    "                                  epochs = epochs, \n",
    "                                  verbose = 1,\n",
    "                                  validation_data = (x_test, y_test),\n",
    "                                  callbacks = [checkpoint_surrogate, callbacks])\n",
    "    \n",
    "    return (model_surrogate, history)"
   ]
  },
  {
   "cell_type": "code",
   "execution_count": 17,
   "metadata": {},
   "outputs": [
    {
     "data": {
      "text/plain": [
       "20"
      ]
     },
     "execution_count": 17,
     "metadata": {},
     "output_type": "execute_result"
    }
   ],
   "source": [
    "gc.collect()"
   ]
  },
  {
   "cell_type": "code",
   "execution_count": 18,
   "metadata": {},
   "outputs": [
    {
     "data": {
      "text/plain": [
       "(25000, 32, 32, 3)"
      ]
     },
     "execution_count": 18,
     "metadata": {},
     "output_type": "execute_result"
    },
    {
     "data": {
      "text/plain": [
       "(10000, 32, 32, 3)"
      ]
     },
     "execution_count": 18,
     "metadata": {},
     "output_type": "execute_result"
    },
    {
     "data": {
      "text/plain": [
       "(10000, 10)"
      ]
     },
     "execution_count": 18,
     "metadata": {},
     "output_type": "execute_result"
    }
   ],
   "source": [
    "x_train_surrogate.shape\n",
    "x_test.shape\n",
    "y_test.shape"
   ]
  },
  {
   "cell_type": "code",
   "execution_count": 19,
   "metadata": {
    "scrolled": true
   },
   "outputs": [
    {
     "name": "stdout",
     "output_type": "stream",
     "text": [
      "Now show basic setting\n",
      "original model performance: acc 0.7595\n",
      "use acc as the evaluation metric, delta =  0.02 ,stealing will stop as long as the validation acc achieve 0.7395000267028808\n",
      "Now prepare for training\n",
      "Now start training\n",
      "Train on 25000 samples, validate on 10000 samples\n",
      "Epoch 1/10\n",
      "24960/25000 [============================>.] - ETA: 0s - loss: 1.6259 - acc: 0.4913\n",
      "Epoch 00001: val_acc improved from -inf to 0.34160, saving model to model/best_cifar_model_surrogate.h5\n",
      "25000/25000 [==============================] - 126s 5ms/sample - loss: 1.6246 - acc: 0.4918 - val_loss: 2.0709 - val_acc: 0.3416\n",
      "Epoch 2/10\n",
      "24960/25000 [============================>.] - ETA: 0s - loss: 0.9525 - acc: 0.6782\n",
      "Epoch 00002: val_acc improved from 0.34160 to 0.61980, saving model to model/best_cifar_model_surrogate.h5\n",
      "25000/25000 [==============================] - 130s 5ms/sample - loss: 0.9529 - acc: 0.6780 - val_loss: 1.2359 - val_acc: 0.6198\n",
      "Epoch 3/10\n",
      "24960/25000 [============================>.] - ETA: 0s - loss: 0.7690 - acc: 0.7473\n",
      "Epoch 00003: val_acc did not improve from 0.61980\n",
      "25000/25000 [==============================] - 139s 6ms/sample - loss: 0.7689 - acc: 0.7473 - val_loss: 1.2576 - val_acc: 0.6073\n",
      "Epoch 4/10\n",
      "24960/25000 [============================>.] - ETA: 0s - loss: 0.6665 - acc: 0.7879\n",
      "Epoch 00004: val_acc improved from 0.61980 to 0.68280, saving model to model/best_cifar_model_surrogate.h5\n",
      "25000/25000 [==============================] - 148s 6ms/sample - loss: 0.6667 - acc: 0.7879 - val_loss: 0.9834 - val_acc: 0.6828\n",
      "Epoch 5/10\n",
      "24960/25000 [============================>.] - ETA: 0s - loss: 0.5894 - acc: 0.8200\n",
      "Epoch 00005: val_acc improved from 0.68280 to 0.69790, saving model to model/best_cifar_model_surrogate.h5\n",
      "25000/25000 [==============================] - 152s 6ms/sample - loss: 0.5893 - acc: 0.8200 - val_loss: 0.9535 - val_acc: 0.6979\n",
      "Epoch 6/10\n",
      "24960/25000 [============================>.] - ETA: 0s - loss: 0.5358 - acc: 0.8486\n",
      "Epoch 00006: val_acc improved from 0.69790 to 0.73720, saving model to model/best_cifar_model_surrogate.h5\n",
      "25000/25000 [==============================] - 148s 6ms/sample - loss: 0.5359 - acc: 0.8484 - val_loss: 0.8330 - val_acc: 0.7372\n",
      "Epoch 7/10\n",
      "24960/25000 [============================>.] - ETA: 0s - loss: 0.4829 - acc: 0.8716\n",
      "Epoch 00007: val_acc improved from 0.73720 to 0.74440, saving model to model/best_cifar_model_surrogate.h5\n",
      "Epoch 6: Reached baseline, terminating training\n",
      "25000/25000 [==============================] - 152s 6ms/sample - loss: 0.4829 - acc: 0.8716 - val_loss: 0.8166 - val_acc: 0.7444\n"
     ]
    }
   ],
   "source": [
    "model_surrogate, history = StealMl( model_original = model_original, \n",
    "                                    model_surrogate_fun = get_deep_cnn_for_cifar, \n",
    "                                    eval_metric = 'acc', \n",
    "                                    delta = 0.02,\n",
    "                                    x_train_surrogate = x_train_surrogate, \n",
    "                                    x_test = x_test, \n",
    "                                    y_test = y_test, \n",
    "                                    path_store_surrogate_model = 'model/best_cifar_model_surrogate.h5',\n",
    "                                    batch_size_train = 64,\n",
    "                                    batch_size_eval = 1024, # batch size used to evaluate the model \n",
    "                                    epochs = 10)"
   ]
  },
  {
   "cell_type": "code",
   "execution_count": 20,
   "metadata": {},
   "outputs": [
    {
     "name": "stdout",
     "output_type": "stream",
     "text": [
      "10000/10000 [==============================] - 23s 2ms/sample - loss: 0.8166 - acc: 0.7444\n"
     ]
    },
    {
     "data": {
      "text/plain": [
       "[0.8165959753036499, 0.7444]"
      ]
     },
     "execution_count": 20,
     "metadata": {},
     "output_type": "execute_result"
    }
   ],
   "source": [
    "model_surrogate.evaluate(x_test, y_test)"
   ]
  },
  {
   "cell_type": "code",
   "execution_count": 21,
   "metadata": {},
   "outputs": [
    {
     "data": {
      "text/plain": [
       "<tensorflow.python.keras.callbacks.History at 0x7fcb8c620f50>"
      ]
     },
     "execution_count": 21,
     "metadata": {},
     "output_type": "execute_result"
    }
   ],
   "source": [
    "history"
   ]
  }
 ],
 "metadata": {
  "kernelspec": {
   "display_name": "Python 3",
   "language": "python",
   "name": "python3"
  },
  "language_info": {
   "codemirror_mode": {
    "name": "ipython",
    "version": 3
   },
   "file_extension": ".py",
   "mimetype": "text/x-python",
   "name": "python",
   "nbconvert_exporter": "python",
   "pygments_lexer": "ipython3",
   "version": "3.7.4"
  }
 },
 "nbformat": 4,
 "nbformat_minor": 2
}
