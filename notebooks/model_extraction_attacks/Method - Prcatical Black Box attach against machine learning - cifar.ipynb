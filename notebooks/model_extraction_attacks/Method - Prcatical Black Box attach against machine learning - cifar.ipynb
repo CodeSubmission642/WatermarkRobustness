{
 "cells": [
  {
   "cell_type": "code",
   "execution_count": 1,
   "metadata": {},
   "outputs": [
    {
     "name": "stderr",
     "output_type": "stream",
     "text": [
      "/home/y2536zha/anaconda3/envs/watermark/lib/python3.7/site-packages/tensorflow/python/framework/dtypes.py:516: FutureWarning: Passing (type, 1) or '1type' as a synonym of type is deprecated; in a future version of numpy, it will be understood as (type, (1,)) / '(1,)type'.\n",
      "  _np_qint8 = np.dtype([(\"qint8\", np.int8, 1)])\n",
      "/home/y2536zha/anaconda3/envs/watermark/lib/python3.7/site-packages/tensorflow/python/framework/dtypes.py:517: FutureWarning: Passing (type, 1) or '1type' as a synonym of type is deprecated; in a future version of numpy, it will be understood as (type, (1,)) / '(1,)type'.\n",
      "  _np_quint8 = np.dtype([(\"quint8\", np.uint8, 1)])\n",
      "/home/y2536zha/anaconda3/envs/watermark/lib/python3.7/site-packages/tensorflow/python/framework/dtypes.py:518: FutureWarning: Passing (type, 1) or '1type' as a synonym of type is deprecated; in a future version of numpy, it will be understood as (type, (1,)) / '(1,)type'.\n",
      "  _np_qint16 = np.dtype([(\"qint16\", np.int16, 1)])\n",
      "/home/y2536zha/anaconda3/envs/watermark/lib/python3.7/site-packages/tensorflow/python/framework/dtypes.py:519: FutureWarning: Passing (type, 1) or '1type' as a synonym of type is deprecated; in a future version of numpy, it will be understood as (type, (1,)) / '(1,)type'.\n",
      "  _np_quint16 = np.dtype([(\"quint16\", np.uint16, 1)])\n",
      "/home/y2536zha/anaconda3/envs/watermark/lib/python3.7/site-packages/tensorflow/python/framework/dtypes.py:520: FutureWarning: Passing (type, 1) or '1type' as a synonym of type is deprecated; in a future version of numpy, it will be understood as (type, (1,)) / '(1,)type'.\n",
      "  _np_qint32 = np.dtype([(\"qint32\", np.int32, 1)])\n",
      "/home/y2536zha/anaconda3/envs/watermark/lib/python3.7/site-packages/tensorflow/python/framework/dtypes.py:525: FutureWarning: Passing (type, 1) or '1type' as a synonym of type is deprecated; in a future version of numpy, it will be understood as (type, (1,)) / '(1,)type'.\n",
      "  np_resource = np.dtype([(\"resource\", np.ubyte, 1)])\n",
      "/home/y2536zha/anaconda3/envs/watermark/lib/python3.7/site-packages/tensorboard/compat/tensorflow_stub/dtypes.py:541: FutureWarning: Passing (type, 1) or '1type' as a synonym of type is deprecated; in a future version of numpy, it will be understood as (type, (1,)) / '(1,)type'.\n",
      "  _np_qint8 = np.dtype([(\"qint8\", np.int8, 1)])\n",
      "/home/y2536zha/anaconda3/envs/watermark/lib/python3.7/site-packages/tensorboard/compat/tensorflow_stub/dtypes.py:542: FutureWarning: Passing (type, 1) or '1type' as a synonym of type is deprecated; in a future version of numpy, it will be understood as (type, (1,)) / '(1,)type'.\n",
      "  _np_quint8 = np.dtype([(\"quint8\", np.uint8, 1)])\n",
      "/home/y2536zha/anaconda3/envs/watermark/lib/python3.7/site-packages/tensorboard/compat/tensorflow_stub/dtypes.py:543: FutureWarning: Passing (type, 1) or '1type' as a synonym of type is deprecated; in a future version of numpy, it will be understood as (type, (1,)) / '(1,)type'.\n",
      "  _np_qint16 = np.dtype([(\"qint16\", np.int16, 1)])\n",
      "/home/y2536zha/anaconda3/envs/watermark/lib/python3.7/site-packages/tensorboard/compat/tensorflow_stub/dtypes.py:544: FutureWarning: Passing (type, 1) or '1type' as a synonym of type is deprecated; in a future version of numpy, it will be understood as (type, (1,)) / '(1,)type'.\n",
      "  _np_quint16 = np.dtype([(\"quint16\", np.uint16, 1)])\n",
      "/home/y2536zha/anaconda3/envs/watermark/lib/python3.7/site-packages/tensorboard/compat/tensorflow_stub/dtypes.py:545: FutureWarning: Passing (type, 1) or '1type' as a synonym of type is deprecated; in a future version of numpy, it will be understood as (type, (1,)) / '(1,)type'.\n",
      "  _np_qint32 = np.dtype([(\"qint32\", np.int32, 1)])\n",
      "/home/y2536zha/anaconda3/envs/watermark/lib/python3.7/site-packages/tensorboard/compat/tensorflow_stub/dtypes.py:550: FutureWarning: Passing (type, 1) or '1type' as a synonym of type is deprecated; in a future version of numpy, it will be understood as (type, (1,)) / '(1,)type'.\n",
      "  np_resource = np.dtype([(\"resource\", np.ubyte, 1)])\n"
     ]
    }
   ],
   "source": [
    "import tensorflow as tf"
   ]
  },
  {
   "cell_type": "code",
   "execution_count": 2,
   "metadata": {
    "scrolled": true
   },
   "outputs": [
    {
     "name": "stdout",
     "output_type": "stream",
     "text": [
      "WARNING:tensorflow:From /home/y2536zha/anaconda3/envs/watermark/lib/python3.7/site-packages/tensorflow/python/ops/init_ops.py:1251: calling VarianceScaling.__init__ (from tensorflow.python.ops.init_ops) with dtype is deprecated and will be removed in a future version.\n",
      "Instructions for updating:\n",
      "Call initializer instance with the dtype argument instead of passing it to the constructor\n"
     ]
    },
    {
     "name": "stderr",
     "output_type": "stream",
     "text": [
      "Using TensorFlow backend.\n"
     ]
    },
    {
     "name": "stdout",
     "output_type": "stream",
     "text": [
      "WARNING:tensorflow:From /home/y2536zha/anaconda3/envs/watermark/lib/python3.7/site-packages/tensorflow/python/ops/nn_impl.py:180: add_dispatch_support.<locals>.wrapper (from tensorflow.python.ops.array_ops) is deprecated and will be removed in a future version.\n",
      "Instructions for updating:\n",
      "Use tf.where in 2.0, which has the same broadcast rule as np.where\n"
     ]
    }
   ],
   "source": [
    "from tensorflow import keras\n",
    "\n",
    "from sklearn.model_selection import train_test_split\n",
    "from sklearn.utils import class_weight\n",
    "from IPython.core.interactiveshell import InteractiveShell\n",
    "from time import time\n",
    "from copy import deepcopy\n",
    "import pandas as pd\n",
    "\n",
    "import matplotlib as plt\n",
    "\n",
    "InteractiveShell.ast_node_interactivity = \"all\"\n",
    "pd.options.display.max_columns = None\n",
    "pd.set_option('display.max_rows', 100)\n",
    "pd.set_option('display.max_rows', 100)\n",
    "\n",
    "%matplotlib inline \n",
    "import sys, os\n",
    "base_path = os.getcwd()[0:os.getcwd().rfind('Watermark')] + \"Watermark/\"\n",
    "sys.path.append(base_path) \n",
    "\n",
    "import matplotlib.pyplot as plt\n",
    "from src.asiaccs_main import asiaccs_blackbox\n",
    "from src.models import get_deep_cnn_for_cifar, get_lenet_model_for_mnist\n",
    "from src.preprocess_data import load_cifar_images, load_mnist_images, transform_to_one_hot\n",
    "from src.util import plot_blackbox"
   ]
  },
  {
   "cell_type": "code",
   "execution_count": 3,
   "metadata": {},
   "outputs": [],
   "source": [
    "import numpy as np"
   ]
  },
  {
   "cell_type": "code",
   "execution_count": 4,
   "metadata": {},
   "outputs": [],
   "source": [
    "train, test = load_cifar_images()"
   ]
  },
  {
   "cell_type": "code",
   "execution_count": 6,
   "metadata": {},
   "outputs": [
    {
     "data": {
      "text/plain": [
       "(25000, 32, 32, 3)"
      ]
     },
     "execution_count": 6,
     "metadata": {},
     "output_type": "execute_result"
    },
    {
     "data": {
      "text/plain": [
       "(25000, 10)"
      ]
     },
     "execution_count": 6,
     "metadata": {},
     "output_type": "execute_result"
    },
    {
     "data": {
      "text/plain": [
       "(25000, 32, 32, 3)"
      ]
     },
     "execution_count": 6,
     "metadata": {},
     "output_type": "execute_result"
    },
    {
     "data": {
      "text/plain": [
       "(25000, 10)"
      ]
     },
     "execution_count": 6,
     "metadata": {},
     "output_type": "execute_result"
    },
    {
     "data": {
      "text/plain": [
       "(10000, 32, 32, 3)"
      ]
     },
     "execution_count": 6,
     "metadata": {},
     "output_type": "execute_result"
    },
    {
     "data": {
      "text/plain": [
       "(10000, 10)"
      ]
     },
     "execution_count": 6,
     "metadata": {},
     "output_type": "execute_result"
    }
   ],
   "source": [
    "x_train, y_train = train\n",
    "x_test, y_test = test\n",
    "\n",
    "x_train_original = x_train[:25000]\n",
    "x_train_surrogate = x_train[25000:]\n",
    "\n",
    "y_train_original = y_train[:25000]\n",
    "y_train_surrogate = y_train[25000:]\n",
    "\n",
    "del x_train\n",
    "del y_train\n",
    "\n",
    "x_train_original.shape\n",
    "y_train_original.shape\n",
    "\n",
    "x_train_surrogate.shape\n",
    "y_train_surrogate.shape\n",
    "\n",
    "x_test.shape\n",
    "y_test.shape"
   ]
  },
  {
   "cell_type": "code",
   "execution_count": 7,
   "metadata": {},
   "outputs": [],
   "source": [
    "model_original = get_deep_cnn_for_cifar() "
   ]
  },
  {
   "cell_type": "code",
   "execution_count": 8,
   "metadata": {},
   "outputs": [],
   "source": [
    "model_original.load_weights('model/best_cifar_model.h5') # original model is trained on x_train_original only"
   ]
  },
  {
   "cell_type": "code",
   "execution_count": 9,
   "metadata": {
    "scrolled": true
   },
   "outputs": [
    {
     "name": "stdout",
     "output_type": "stream",
     "text": [
      "Model: \"sequential_1\"\n",
      "_________________________________________________________________\n",
      "Layer (type)                 Output Shape              Param #   \n",
      "=================================================================\n",
      "conv2d (Conv2D)              (None, 32, 32, 32)        896       \n",
      "_________________________________________________________________\n",
      "batch_normalization (BatchNo (None, 32, 32, 32)        128       \n",
      "_________________________________________________________________\n",
      "conv2d_1 (Conv2D)            (None, 32, 32, 32)        9248      \n",
      "_________________________________________________________________\n",
      "batch_normalization_1 (Batch (None, 32, 32, 32)        128       \n",
      "_________________________________________________________________\n",
      "max_pooling2d (MaxPooling2D) (None, 16, 16, 32)        0         \n",
      "_________________________________________________________________\n",
      "dropout (Dropout)            (None, 16, 16, 32)        0         \n",
      "_________________________________________________________________\n",
      "conv2d_2 (Conv2D)            (None, 16, 16, 64)        18496     \n",
      "_________________________________________________________________\n",
      "batch_normalization_2 (Batch (None, 16, 16, 64)        256       \n",
      "_________________________________________________________________\n",
      "conv2d_3 (Conv2D)            (None, 16, 16, 64)        36928     \n",
      "_________________________________________________________________\n",
      "batch_normalization_3 (Batch (None, 16, 16, 64)        256       \n",
      "_________________________________________________________________\n",
      "max_pooling2d_1 (MaxPooling2 (None, 8, 8, 64)          0         \n",
      "_________________________________________________________________\n",
      "dropout_1 (Dropout)          (None, 8, 8, 64)          0         \n",
      "_________________________________________________________________\n",
      "conv2d_4 (Conv2D)            (None, 8, 8, 128)         73856     \n",
      "_________________________________________________________________\n",
      "batch_normalization_4 (Batch (None, 8, 8, 128)         512       \n",
      "_________________________________________________________________\n",
      "conv2d_5 (Conv2D)            (None, 8, 8, 128)         147584    \n",
      "_________________________________________________________________\n",
      "batch_normalization_5 (Batch (None, 8, 8, 128)         512       \n",
      "_________________________________________________________________\n",
      "max_pooling2d_2 (MaxPooling2 (None, 4, 4, 128)         0         \n",
      "_________________________________________________________________\n",
      "dropout_2 (Dropout)          (None, 4, 4, 128)         0         \n",
      "_________________________________________________________________\n",
      "flatten (Flatten)            (None, 2048)              0         \n",
      "_________________________________________________________________\n",
      "dense_3 (Dense)              (None, 512)               1049088   \n",
      "_________________________________________________________________\n",
      "batch_normalization_6 (Batch (None, 512)               2048      \n",
      "_________________________________________________________________\n",
      "dropout_3 (Dropout)          (None, 512)               0         \n",
      "_________________________________________________________________\n",
      "dense_4 (Dense)              (None, 10)                5130      \n",
      "=================================================================\n",
      "Total params: 1,345,066\n",
      "Trainable params: 1,343,146\n",
      "Non-trainable params: 1,920\n",
      "_________________________________________________________________\n"
     ]
    }
   ],
   "source": [
    "model_original.summary()"
   ]
  },
  {
   "cell_type": "code",
   "execution_count": 10,
   "metadata": {},
   "outputs": [],
   "source": [
    "from tensorflow.keras import backend as K\n",
    "from tensorflow.keras.layers import multiply, Input"
   ]
  },
  {
   "cell_type": "code",
   "execution_count": 11,
   "metadata": {},
   "outputs": [],
   "source": [
    "def compute_jacob(x_train, y_train, model):\n",
    "    y_label_byhost = Input((10,))\n",
    "    output_masked = multiply([model.output, y_label_byhost])\n",
    "    \n",
    "    jcob = tf.gradients(ys = [output_masked],\n",
    "                        xs = [model.input],)[0]\n",
    "    \n",
    "    tmp_fun = K.function([model.input, y_label_byhost],\n",
    "                     [jcob])\n",
    "    \n",
    "    return tmp_fun([x_train, y_train])[0]\n",
    "    "
   ]
  },
  {
   "cell_type": "code",
   "execution_count": 12,
   "metadata": {},
   "outputs": [],
   "source": [
    "class TerminateOnBaseline(keras.callbacks.Callback):\n",
    "    \"\"\"Callback that terminates training when either acc or val_acc reaches a specified baseline\n",
    "    \"\"\"\n",
    "    def __init__(self, monitor='acc', baseline=0.9):\n",
    "        super(TerminateOnBaseline, self).__init__()\n",
    "        self.monitor = monitor\n",
    "        self.baseline = baseline\n",
    "\n",
    "    def on_epoch_end(self, epoch, logs=None):\n",
    "        logs = logs or {}\n",
    "        acc = logs.get(self.monitor)\n",
    "        if acc is not None:\n",
    "            if acc >= self.baseline:\n",
    "                print('Epoch %d: Reached baseline, terminating training' % (epoch))\n",
    "                self.model.stop_training = True"
   ]
  },
  {
   "cell_type": "code",
   "execution_count": 13,
   "metadata": {},
   "outputs": [],
   "source": [
    "x_train_attack = x_train_surrogate[:150]"
   ]
  },
  {
   "cell_type": "code",
   "execution_count": 14,
   "metadata": {},
   "outputs": [],
   "source": [
    "y_train_attack = model_original.predict(x_train_attack).argmax(axis=1)\n",
    "y_train_attack = transform_to_one_hot(y_train_attack, depth=10)"
   ]
  },
  {
   "cell_type": "code",
   "execution_count": 15,
   "metadata": {},
   "outputs": [
    {
     "data": {
      "text/plain": [
       "(150, 10)"
      ]
     },
     "execution_count": 15,
     "metadata": {},
     "output_type": "execute_result"
    },
    {
     "data": {
      "text/plain": [
       "(150, 10)"
      ]
     },
     "execution_count": 15,
     "metadata": {},
     "output_type": "execute_result"
    },
    {
     "data": {
      "text/plain": [
       "(10000, 32, 32, 3)"
      ]
     },
     "execution_count": 15,
     "metadata": {},
     "output_type": "execute_result"
    },
    {
     "data": {
      "text/plain": [
       "(10000, 10)"
      ]
     },
     "execution_count": 15,
     "metadata": {},
     "output_type": "execute_result"
    }
   ],
   "source": [
    "y_train_attack.shape\n",
    "y_train_attack.shape\n",
    "x_test.shape\n",
    "y_test.shape"
   ]
  },
  {
   "cell_type": "code",
   "execution_count": 21,
   "metadata": {},
   "outputs": [],
   "source": [
    "def Practical_black_box_attach(model_surrogate_fun, # function used to build the surrogate model\n",
    "                               x_train_attack,\n",
    "                               y_train_attack,\n",
    "                               x_test,\n",
    "                               y_test,\n",
    "                               lambda_update = 1, # lamda used, as seen in the original paper\n",
    "                               num_iter = 10,\n",
    "                               eval_metric = 'acc',\n",
    "                               delta = 0.1,\n",
    "                               path_store_surrogate_model = 'model/best_mnist_model_surrogate_Black.h5',\n",
    "                               batch_size_train = 64,\n",
    "                               batch_size_eval = 1024,\n",
    "                               epochs = 10):\n",
    "    \n",
    "    # Check Basic setting\n",
    "    if eval_metric not in model_original.metrics_names:\n",
    "        raise Exception('Error: eval_metric not in the original model')\n",
    "        \n",
    "    eval_metric_index = model_original.metrics_names.index(eval_metric)\n",
    "    model_original_performance = model_original.evaluate(x_test, y_test, batch_size = batch_size_eval, verbose = 0)[eval_metric_index]\n",
    "    \n",
    "    print('Now show basic setting')\n",
    "    print('original model performance:', eval_metric, model_original_performance)\n",
    "    print('use', eval_metric, 'as the evaluation metric,', 'delta = ', delta,\n",
    "      ',stealing will stop as long as the validation', eval_metric, 'achieve', model_original_performance - delta)\n",
    "    \n",
    "    \n",
    "    # Preparation for training\n",
    "    print('Now prepare for training')\n",
    "    callbacks = TerminateOnBaseline(monitor = 'val_' + eval_metric, baseline = model_original_performance - delta)\n",
    "    checkpoint_surrogate = keras.callbacks.ModelCheckpoint( path_store_surrogate_model, verbose=1, monitor='val_acc',save_best_only=True, mode='auto') \n",
    "    model_surrogate = model_surrogate_fun()\n",
    "    \n",
    "    # train model \n",
    "    history_list = []\n",
    "    for i in range(num_iter):\n",
    "        print('iteration:', i, 'x_train_attack shape:', x_train_attack.shape, 'y_train_attack shape:', y_train_attack.shape)\n",
    "        history = model_surrogate.fit(x_train_attack,\n",
    "                                      y_train_attack,\n",
    "                                      batch_size = batch_size_train, \n",
    "                                      epochs = epochs, \n",
    "                                      verbose = 1,\n",
    "                                      validation_data = (x_test, y_test),\n",
    "                                      callbacks = [checkpoint_surrogate, callbacks])\n",
    "        history_list.append(history)\n",
    "        \n",
    "        model_surrogate_performance = model_surrogate.evaluate(x_test, y_test, batch_size = batch_size_eval, verbose = 0)[eval_metric_index]\n",
    "        if model_surrogate_performance >= model_original_performance - delta:\n",
    "            print('Reached the desired performance, break the loop')\n",
    "            break;\n",
    "\n",
    "        # update synthetic dataset\n",
    "        jacob = np.sign(compute_jacob(x_train_attack, y_train_attack, model_surrogate)) \n",
    "        x_train_attack_added = x_train_attack + lambda_update * jacob\n",
    "        y_train_attack_added = model_original.predict(x_train_attack_added).argmax(axis=1)\n",
    "        y_train_attack_added = transform_to_one_hot(y_train_attack_added, depth=10)\n",
    "\n",
    "        x_train_attack = np.concatenate([x_train_attack, x_train_attack_added])\n",
    "        y_train_attack = np.concatenate([y_train_attack, y_train_attack_added])\n",
    "        \n",
    "    return (model_surrogate, history_list)"
   ]
  },
  {
   "cell_type": "code",
   "execution_count": 22,
   "metadata": {},
   "outputs": [
    {
     "data": {
      "text/plain": [
       "20"
      ]
     },
     "execution_count": 22,
     "metadata": {},
     "output_type": "execute_result"
    }
   ],
   "source": [
    "import gc\n",
    "gc.collect()"
   ]
  },
  {
   "cell_type": "code",
   "execution_count": null,
   "metadata": {
    "scrolled": true
   },
   "outputs": [
    {
     "name": "stdout",
     "output_type": "stream",
     "text": [
      "Now show basic setting\n",
      "original model performance: acc 0.7595\n",
      "use acc as the evaluation metric, delta =  0.3 ,stealing will stop as long as the validation acc achieve 0.45950002670288087\n",
      "Now prepare for training\n",
      "iteration: 0 x_train_attack shape: (150, 32, 32, 3) y_train_attack shape: (150, 10)\n",
      "Train on 150 samples, validate on 10000 samples\n",
      "Epoch 1/10\n",
      "128/150 [========================>.....] - ETA: 0s - loss: 3.9547 - acc: 0.1406\n",
      "Epoch 00001: val_acc improved from -inf to 0.10140, saving model to model/best_cifar_model_surrogate_Black.h5\n",
      "150/150 [==============================] - 22s 150ms/sample - loss: 3.8901 - acc: 0.1267 - val_loss: 2.3319 - val_acc: 0.1014\n",
      "Epoch 2/10\n",
      "128/150 [========================>.....] - ETA: 0s - loss: 1.6663 - acc: 0.5156\n",
      "Epoch 00002: val_acc improved from 0.10140 to 0.14060, saving model to model/best_cifar_model_surrogate_Black.h5\n",
      "150/150 [==============================] - 16s 105ms/sample - loss: 1.6788 - acc: 0.5200 - val_loss: 2.3021 - val_acc: 0.1406\n",
      "Epoch 3/10\n",
      "128/150 [========================>.....] - ETA: 0s - loss: 0.9172 - acc: 0.6797\n",
      "Epoch 00003: val_acc improved from 0.14060 to 0.15130, saving model to model/best_cifar_model_surrogate_Black.h5\n",
      "150/150 [==============================] - 16s 108ms/sample - loss: 0.9135 - acc: 0.6867 - val_loss: 2.2950 - val_acc: 0.1513\n",
      "Epoch 4/10\n",
      "128/150 [========================>.....] - ETA: 0s - loss: 0.4609 - acc: 0.8359\n",
      "Epoch 00004: val_acc did not improve from 0.15130\n",
      "150/150 [==============================] - 14s 91ms/sample - loss: 0.5263 - acc: 0.8133 - val_loss: 2.3223 - val_acc: 0.1359\n",
      "Epoch 5/10\n",
      "128/150 [========================>.....] - ETA: 0s - loss: 0.4682 - acc: 0.8438\n",
      "Epoch 00005: val_acc did not improve from 0.15130\n",
      "150/150 [==============================] - 13s 87ms/sample - loss: 0.4293 - acc: 0.8600 - val_loss: 2.3689 - val_acc: 0.1283\n",
      "Epoch 6/10\n",
      "128/150 [========================>.....] - ETA: 0s - loss: 0.2281 - acc: 0.9297\n",
      "Epoch 00006: val_acc did not improve from 0.15130\n",
      "150/150 [==============================] - 13s 88ms/sample - loss: 0.2645 - acc: 0.9133 - val_loss: 2.3957 - val_acc: 0.1025\n",
      "Epoch 7/10\n",
      "128/150 [========================>.....] - ETA: 0s - loss: 0.1927 - acc: 0.9375\n",
      "Epoch 00007: val_acc did not improve from 0.15130\n",
      "150/150 [==============================] - 13s 85ms/sample - loss: 0.1874 - acc: 0.9400 - val_loss: 2.4521 - val_acc: 0.1003\n",
      "Epoch 8/10\n",
      "128/150 [========================>.....] - ETA: 0s - loss: 0.0833 - acc: 0.9844\n",
      "Epoch 00008: val_acc did not improve from 0.15130\n",
      "150/150 [==============================] - 13s 84ms/sample - loss: 0.0832 - acc: 0.9867 - val_loss: 2.4747 - val_acc: 0.1014\n",
      "Epoch 9/10\n",
      "128/150 [========================>.....] - ETA: 0s - loss: 0.0877 - acc: 0.9766\n",
      "Epoch 00009: val_acc did not improve from 0.15130\n",
      "150/150 [==============================] - 13s 86ms/sample - loss: 0.0853 - acc: 0.9800 - val_loss: 2.4980 - val_acc: 0.1023\n",
      "Epoch 10/10\n",
      "128/150 [========================>.....] - ETA: 0s - loss: 0.0768 - acc: 0.9844\n",
      "Epoch 00010: val_acc did not improve from 0.15130\n",
      "150/150 [==============================] - 15s 97ms/sample - loss: 0.0936 - acc: 0.9733 - val_loss: 2.5214 - val_acc: 0.1051\n",
      "iteration: 1 x_train_attack shape: (300, 32, 32, 3) y_train_attack shape: (300, 10)\n",
      "Train on 300 samples, validate on 10000 samples\n",
      "Epoch 1/10\n",
      "256/300 [========================>.....] - ETA: 0s - loss: 2.4800 - acc: 0.4883\n",
      "Epoch 00001: val_acc did not improve from 0.15130\n",
      "300/300 [==============================] - 16s 54ms/sample - loss: 2.4090 - acc: 0.4967 - val_loss: 2.7399 - val_acc: 0.1000\n",
      "Epoch 2/10\n",
      "256/300 [========================>.....] - ETA: 0s - loss: 1.6142 - acc: 0.6172\n",
      "Epoch 00002: val_acc did not improve from 0.15130\n",
      "300/300 [==============================] - 16s 54ms/sample - loss: 1.5343 - acc: 0.6267 - val_loss: 2.7672 - val_acc: 0.1052\n",
      "Epoch 3/10\n",
      "256/300 [========================>.....] - ETA: 0s - loss: 1.0544 - acc: 0.7031\n",
      "Epoch 00003: val_acc did not improve from 0.15130\n",
      "300/300 [==============================] - 16s 55ms/sample - loss: 1.0547 - acc: 0.6933 - val_loss: 2.8150 - val_acc: 0.1150\n",
      "Epoch 4/10\n",
      "256/300 [========================>.....] - ETA: 0s - loss: 0.7018 - acc: 0.7852\n",
      "Epoch 00004: val_acc did not improve from 0.15130\n",
      "300/300 [==============================] - 16s 55ms/sample - loss: 0.6891 - acc: 0.7800 - val_loss: 2.8346 - val_acc: 0.1106\n",
      "Epoch 5/10\n",
      "256/300 [========================>.....] - ETA: 0s - loss: 0.3479 - acc: 0.8750\n",
      "Epoch 00005: val_acc did not improve from 0.15130\n",
      "300/300 [==============================] - 16s 53ms/sample - loss: 0.3867 - acc: 0.8700 - val_loss: 3.0511 - val_acc: 0.1142\n",
      "Epoch 6/10\n",
      "256/300 [========================>.....] - ETA: 0s - loss: 0.4269 - acc: 0.8750\n",
      "Epoch 00006: val_acc did not improve from 0.15130\n",
      "300/300 [==============================] - 16s 54ms/sample - loss: 0.4441 - acc: 0.8733 - val_loss: 3.1044 - val_acc: 0.1000\n",
      "Epoch 7/10\n",
      "256/300 [========================>.....] - ETA: 0s - loss: 0.3504 - acc: 0.8633\n",
      "Epoch 00007: val_acc did not improve from 0.15130\n",
      "300/300 [==============================] - 16s 55ms/sample - loss: 0.3379 - acc: 0.8700 - val_loss: 3.3332 - val_acc: 0.1338\n",
      "Epoch 8/10\n",
      "256/300 [========================>.....] - ETA: 0s - loss: 0.1742 - acc: 0.9492\n",
      "Epoch 00008: val_acc did not improve from 0.15130\n",
      "300/300 [==============================] - 16s 55ms/sample - loss: 0.1911 - acc: 0.9367 - val_loss: 3.0487 - val_acc: 0.1009\n",
      "Epoch 9/10\n",
      "256/300 [========================>.....] - ETA: 0s - loss: 0.2595 - acc: 0.9180\n",
      "Epoch 00009: val_acc improved from 0.15130 to 0.16680, saving model to model/best_cifar_model_surrogate_Black.h5\n",
      "300/300 [==============================] - 17s 56ms/sample - loss: 0.2701 - acc: 0.9100 - val_loss: 2.9729 - val_acc: 0.1668\n",
      "Epoch 10/10\n",
      "256/300 [========================>.....] - ETA: 0s - loss: 0.1980 - acc: 0.9375\n",
      "Epoch 00010: val_acc did not improve from 0.16680\n",
      "300/300 [==============================] - 16s 54ms/sample - loss: 0.1912 - acc: 0.9400 - val_loss: 3.5728 - val_acc: 0.1253\n",
      "iteration: 2 x_train_attack shape: (600, 32, 32, 3) y_train_attack shape: (600, 10)\n",
      "Train on 600 samples, validate on 10000 samples\n",
      "Epoch 1/10\n",
      "576/600 [===========================>..] - ETA: 0s - loss: 1.1389 - acc: 0.7760\n",
      "Epoch 00001: val_acc did not improve from 0.16680\n",
      "600/600 [==============================] - 19s 31ms/sample - loss: 1.1262 - acc: 0.7767 - val_loss: 3.7691 - val_acc: 0.1022\n",
      "Epoch 2/10\n",
      "576/600 [===========================>..] - ETA: 0s - loss: 0.5262 - acc: 0.8802\n",
      "Epoch 00002: val_acc did not improve from 0.16680\n",
      "600/600 [==============================] - 19s 32ms/sample - loss: 0.5336 - acc: 0.8800 - val_loss: 3.7434 - val_acc: 0.1299\n",
      "Epoch 3/10\n",
      "576/600 [===========================>..] - ETA: 0s - loss: 0.3008 - acc: 0.9080\n",
      "Epoch 00003: val_acc did not improve from 0.16680\n",
      "600/600 [==============================] - 19s 32ms/sample - loss: 0.3066 - acc: 0.9067 - val_loss: 3.0711 - val_acc: 0.1661\n",
      "Epoch 4/10\n",
      "576/600 [===========================>..] - ETA: 0s - loss: 0.5023 - acc: 0.9028\n",
      "Epoch 00004: val_acc did not improve from 0.16680\n",
      "600/600 [==============================] - 19s 31ms/sample - loss: 0.4936 - acc: 0.9033 - val_loss: 3.9216 - val_acc: 0.1299\n",
      "Epoch 5/10\n",
      "576/600 [===========================>..] - ETA: 0s - loss: 0.1358 - acc: 0.9653\n",
      "Epoch 00005: val_acc did not improve from 0.16680\n",
      "600/600 [==============================] - 19s 32ms/sample - loss: 0.1353 - acc: 0.9650 - val_loss: 3.8980 - val_acc: 0.1634\n",
      "Epoch 6/10\n",
      "576/600 [===========================>..] - ETA: 0s - loss: 0.2849 - acc: 0.9306\n",
      "Epoch 00006: val_acc did not improve from 0.16680\n",
      "600/600 [==============================] - 19s 32ms/sample - loss: 0.2907 - acc: 0.9300 - val_loss: 4.9875 - val_acc: 0.1334\n",
      "Epoch 7/10\n",
      "576/600 [===========================>..] - ETA: 0s - loss: 0.1376 - acc: 0.9635\n",
      "Epoch 00007: val_acc improved from 0.16680 to 0.19300, saving model to model/best_cifar_model_surrogate_Black.h5\n",
      "600/600 [==============================] - 19s 32ms/sample - loss: 0.1337 - acc: 0.9650 - val_loss: 4.4378 - val_acc: 0.1930\n",
      "Epoch 8/10\n"
     ]
    },
    {
     "name": "stdout",
     "output_type": "stream",
     "text": [
      "576/600 [===========================>..] - ETA: 0s - loss: 0.1096 - acc: 0.9757\n",
      "Epoch 00008: val_acc improved from 0.19300 to 0.21000, saving model to model/best_cifar_model_surrogate_Black.h5\n",
      "600/600 [==============================] - 19s 32ms/sample - loss: 0.1110 - acc: 0.9750 - val_loss: 4.7330 - val_acc: 0.2100\n",
      "Epoch 9/10\n",
      "576/600 [===========================>..] - ETA: 0s - loss: 0.2795 - acc: 0.9271\n",
      "Epoch 00009: val_acc did not improve from 0.21000\n",
      "600/600 [==============================] - 19s 31ms/sample - loss: 0.2745 - acc: 0.9283 - val_loss: 6.4363 - val_acc: 0.1701\n",
      "Epoch 10/10\n",
      "576/600 [===========================>..] - ETA: 0s - loss: 0.2860 - acc: 0.9288\n",
      "Epoch 00010: val_acc did not improve from 0.21000\n",
      "600/600 [==============================] - 19s 32ms/sample - loss: 0.2820 - acc: 0.9300 - val_loss: 6.2829 - val_acc: 0.1243\n",
      "iteration: 3 x_train_attack shape: (1200, 32, 32, 3) y_train_attack shape: (1200, 10)\n",
      "Train on 1200 samples, validate on 10000 samples\n",
      "Epoch 1/10\n",
      "1152/1200 [===========================>..] - ETA: 0s - loss: 0.4333 - acc: 0.9019\n",
      "Epoch 00001: val_acc did not improve from 0.21000\n",
      "1200/1200 [==============================] - 23s 19ms/sample - loss: 0.4313 - acc: 0.9033 - val_loss: 6.7821 - val_acc: 0.1535\n",
      "Epoch 2/10\n",
      "1152/1200 [===========================>..] - ETA: 0s - loss: 0.2355 - acc: 0.9470\n",
      "Epoch 00002: val_acc improved from 0.21000 to 0.22840, saving model to model/best_cifar_model_surrogate_Black.h5\n",
      "1200/1200 [==============================] - 24s 20ms/sample - loss: 0.2458 - acc: 0.9450 - val_loss: 7.5078 - val_acc: 0.2284\n",
      "Epoch 3/10\n",
      "1152/1200 [===========================>..] - ETA: 0s - loss: 0.3333 - acc: 0.9227\n",
      "Epoch 00003: val_acc did not improve from 0.22840\n",
      "1200/1200 [==============================] - 24s 20ms/sample - loss: 0.3503 - acc: 0.9208 - val_loss: 5.1252 - val_acc: 0.1917\n",
      "Epoch 4/10\n",
      "1152/1200 [===========================>..] - ETA: 0s - loss: 0.1825 - acc: 0.9514\n",
      "Epoch 00004: val_acc did not improve from 0.22840\n",
      "1200/1200 [==============================] - 24s 20ms/sample - loss: 0.1889 - acc: 0.9492 - val_loss: 9.5030 - val_acc: 0.1594\n",
      "Epoch 5/10\n",
      "1152/1200 [===========================>..] - ETA: 0s - loss: 0.2247 - acc: 0.9557\n",
      "Epoch 00005: val_acc improved from 0.22840 to 0.26220, saving model to model/best_cifar_model_surrogate_Black.h5\n",
      "1200/1200 [==============================] - 24s 20ms/sample - loss: 0.2245 - acc: 0.9550 - val_loss: 4.7836 - val_acc: 0.2622\n",
      "Epoch 6/10\n",
      "1152/1200 [===========================>..] - ETA: 0s - loss: 0.1694 - acc: 0.9557\n",
      "Epoch 00006: val_acc did not improve from 0.26220\n",
      "1200/1200 [==============================] - 24s 20ms/sample - loss: 0.1699 - acc: 0.9550 - val_loss: 5.5136 - val_acc: 0.2471\n",
      "Epoch 7/10\n",
      "1152/1200 [===========================>..] - ETA: 0s - loss: 0.1319 - acc: 0.9653\n",
      "Epoch 00007: val_acc did not improve from 0.26220\n",
      "1200/1200 [==============================] - 25s 21ms/sample - loss: 0.1316 - acc: 0.9642 - val_loss: 8.9512 - val_acc: 0.1741\n",
      "Epoch 8/10\n",
      "1152/1200 [===========================>..] - ETA: 0s - loss: 0.1464 - acc: 0.9583\n",
      "Epoch 00008: val_acc did not improve from 0.26220\n",
      "1200/1200 [==============================] - 25s 21ms/sample - loss: 0.1431 - acc: 0.9592 - val_loss: 7.8196 - val_acc: 0.2191\n",
      "Epoch 9/10\n",
      "1152/1200 [===========================>..] - ETA: 0s - loss: 0.1089 - acc: 0.9748\n",
      "Epoch 00009: val_acc did not improve from 0.26220\n",
      "1200/1200 [==============================] - 25s 21ms/sample - loss: 0.1258 - acc: 0.9725 - val_loss: 6.9676 - val_acc: 0.2138\n",
      "Epoch 10/10\n",
      "1152/1200 [===========================>..] - ETA: 0s - loss: 0.1220 - acc: 0.9688\n",
      "Epoch 00010: val_acc did not improve from 0.26220\n",
      "1200/1200 [==============================] - 24s 20ms/sample - loss: 0.1311 - acc: 0.9658 - val_loss: 5.3378 - val_acc: 0.2324\n",
      "iteration: 4 x_train_attack shape: (2400, 32, 32, 3) y_train_attack shape: (2400, 10)\n",
      "Train on 2400 samples, validate on 10000 samples\n",
      "Epoch 1/10\n",
      "2368/2400 [============================>.] - ETA: 0s - loss: 0.2373 - acc: 0.9523\n",
      "Epoch 00001: val_acc did not improve from 0.26220\n",
      "2400/2400 [==============================] - 34s 14ms/sample - loss: 0.2389 - acc: 0.9517 - val_loss: 7.8001 - val_acc: 0.2383\n",
      "Epoch 2/10\n",
      "2368/2400 [============================>.] - ETA: 0s - loss: 0.2177 - acc: 0.9502\n",
      "Epoch 00002: val_acc did not improve from 0.26220\n",
      "2400/2400 [==============================] - 35s 15ms/sample - loss: 0.2178 - acc: 0.9504 - val_loss: 8.2658 - val_acc: 0.2563\n",
      "Epoch 3/10\n",
      "2368/2400 [============================>.] - ETA: 0s - loss: 0.1871 - acc: 0.9561\n",
      "Epoch 00003: val_acc did not improve from 0.26220\n",
      "2400/2400 [==============================] - 34s 14ms/sample - loss: 0.1910 - acc: 0.9558 - val_loss: 6.7472 - val_acc: 0.1782\n",
      "Epoch 4/10\n",
      "2368/2400 [============================>.] - ETA: 0s - loss: 0.1510 - acc: 0.9611\n",
      "Epoch 00004: val_acc did not improve from 0.26220\n",
      "2400/2400 [==============================] - 34s 14ms/sample - loss: 0.1491 - acc: 0.9617 - val_loss: 9.2957 - val_acc: 0.2353\n",
      "Epoch 5/10\n",
      "2368/2400 [============================>.] - ETA: 0s - loss: 0.1640 - acc: 0.9595\n",
      "Epoch 00005: val_acc did not improve from 0.26220\n",
      "2400/2400 [==============================] - 34s 14ms/sample - loss: 0.1621 - acc: 0.9600 - val_loss: 8.6729 - val_acc: 0.1888\n",
      "Epoch 6/10\n",
      "2368/2400 [============================>.] - ETA: 0s - loss: 0.1375 - acc: 0.9628\n",
      "Epoch 00006: val_acc improved from 0.26220 to 0.26370, saving model to model/best_cifar_model_surrogate_Black.h5\n",
      "2400/2400 [==============================] - 35s 14ms/sample - loss: 0.1377 - acc: 0.9629 - val_loss: 6.3890 - val_acc: 0.2637\n",
      "Epoch 7/10\n",
      "2368/2400 [============================>.] - ETA: 0s - loss: 0.1282 - acc: 0.9696\n",
      "Epoch 00007: val_acc did not improve from 0.26370\n",
      "2400/2400 [==============================] - 34s 14ms/sample - loss: 0.1304 - acc: 0.9696 - val_loss: 9.9891 - val_acc: 0.2307\n",
      "Epoch 8/10\n",
      "2368/2400 [============================>.] - ETA: 0s - loss: 0.1142 - acc: 0.9709\n",
      "Epoch 00008: val_acc did not improve from 0.26370\n",
      "2400/2400 [==============================] - 34s 14ms/sample - loss: 0.1135 - acc: 0.9708 - val_loss: 7.5317 - val_acc: 0.2193\n",
      "Epoch 9/10\n",
      "2368/2400 [============================>.] - ETA: 0s - loss: 0.1336 - acc: 0.9679\n",
      "Epoch 00009: val_acc did not improve from 0.26370\n",
      "2400/2400 [==============================] - 37s 15ms/sample - loss: 0.1325 - acc: 0.9679 - val_loss: 5.8130 - val_acc: 0.2321\n",
      "Epoch 10/10\n",
      "2368/2400 [============================>.] - ETA: 0s - loss: 0.0850 - acc: 0.9797\n",
      "Epoch 00010: val_acc did not improve from 0.26370\n",
      "2400/2400 [==============================] - 36s 15ms/sample - loss: 0.0841 - acc: 0.9800 - val_loss: 6.1532 - val_acc: 0.2315\n",
      "iteration: 5 x_train_attack shape: (4800, 32, 32, 3) y_train_attack shape: (4800, 10)\n",
      "Train on 4800 samples, validate on 10000 samples\n",
      "Epoch 1/10\n",
      "4736/4800 [============================>.] - ETA: 0s - loss: 0.1371 - acc: 0.9713\n",
      "Epoch 00001: val_acc did not improve from 0.26370\n",
      "4800/4800 [==============================] - 53s 11ms/sample - loss: 0.1390 - acc: 0.9708 - val_loss: 8.1257 - val_acc: 0.1977\n",
      "Epoch 2/10\n",
      "4736/4800 [============================>.] - ETA: 0s - loss: 0.1007 - acc: 0.9749\n",
      "Epoch 00002: val_acc did not improve from 0.26370\n",
      "4800/4800 [==============================] - 55s 11ms/sample - loss: 0.1000 - acc: 0.9748 - val_loss: 5.6075 - val_acc: 0.2545\n",
      "Epoch 3/10\n",
      "4736/4800 [============================>.] - ETA: 0s - loss: 0.0851 - acc: 0.9804\n",
      "Epoch 00003: val_acc did not improve from 0.26370\n",
      "4800/4800 [==============================] - 55s 11ms/sample - loss: 0.0841 - acc: 0.9806 - val_loss: 8.3432 - val_acc: 0.2395\n",
      "Epoch 4/10\n",
      "4736/4800 [============================>.] - ETA: 0s - loss: 0.1235 - acc: 0.9745\n",
      "Epoch 00004: val_acc did not improve from 0.26370\n",
      "4800/4800 [==============================] - 55s 11ms/sample - loss: 0.1267 - acc: 0.9744 - val_loss: 9.2501 - val_acc: 0.2169\n",
      "Epoch 5/10\n",
      "4736/4800 [============================>.] - ETA: 0s - loss: 0.0626 - acc: 0.9827\n",
      "Epoch 00005: val_acc did not improve from 0.26370\n",
      "4800/4800 [==============================] - 53s 11ms/sample - loss: 0.0633 - acc: 0.9827 - val_loss: 6.3269 - val_acc: 0.1994\n"
     ]
    },
    {
     "name": "stdout",
     "output_type": "stream",
     "text": [
      "Epoch 6/10\n",
      "4736/4800 [============================>.] - ETA: 0s - loss: 0.0941 - acc: 0.9774\n",
      "Epoch 00006: val_acc did not improve from 0.26370\n",
      "4800/4800 [==============================] - 46s 10ms/sample - loss: 0.0930 - acc: 0.9777 - val_loss: 6.2713 - val_acc: 0.2350\n",
      "Epoch 7/10\n",
      "4736/4800 [============================>.] - ETA: 0s - loss: 0.0667 - acc: 0.9814\n",
      "Epoch 00007: val_acc did not improve from 0.26370\n",
      "4800/4800 [==============================] - 50s 10ms/sample - loss: 0.0665 - acc: 0.9815 - val_loss: 7.8672 - val_acc: 0.2458\n",
      "Epoch 8/10\n",
      "4736/4800 [============================>.] - ETA: 0s - loss: 0.0604 - acc: 0.9833\n",
      "Epoch 00008: val_acc did not improve from 0.26370\n",
      "4800/4800 [==============================] - 52s 11ms/sample - loss: 0.0608 - acc: 0.9833 - val_loss: 6.5080 - val_acc: 0.2307\n",
      "Epoch 9/10\n",
      "4736/4800 [============================>.] - ETA: 0s - loss: 0.0512 - acc: 0.9854\n",
      "Epoch 00009: val_acc did not improve from 0.26370\n",
      "4800/4800 [==============================] - 53s 11ms/sample - loss: 0.0514 - acc: 0.9854 - val_loss: 6.9356 - val_acc: 0.2538\n",
      "Epoch 10/10\n",
      "4736/4800 [============================>.] - ETA: 0s - loss: 0.0366 - acc: 0.9905\n",
      "Epoch 00010: val_acc did not improve from 0.26370\n",
      "4800/4800 [==============================] - 54s 11ms/sample - loss: 0.0362 - acc: 0.9906 - val_loss: 5.7117 - val_acc: 0.2283\n",
      "iteration: 6 x_train_attack shape: (9600, 32, 32, 3) y_train_attack shape: (9600, 10)\n",
      "Train on 9600 samples, validate on 10000 samples\n",
      "Epoch 1/10\n",
      "9536/9600 [============================>.] - ETA: 0s - loss: 0.0725 - acc: 0.9864\n",
      "Epoch 00001: val_acc did not improve from 0.26370\n",
      "9600/9600 [==============================] - 90s 9ms/sample - loss: 0.0725 - acc: 0.9864 - val_loss: 8.2918 - val_acc: 0.2363\n",
      "Epoch 2/10\n",
      "9536/9600 [============================>.] - ETA: 0s - loss: 0.0556 - acc: 0.9863\n",
      "Epoch 00002: val_acc did not improve from 0.26370\n",
      "9600/9600 [==============================] - 87s 9ms/sample - loss: 0.0554 - acc: 0.9862 - val_loss: 6.3113 - val_acc: 0.2422\n",
      "Epoch 3/10\n",
      "9536/9600 [============================>.] - ETA: 0s - loss: 0.0427 - acc: 0.9877\n",
      "Epoch 00003: val_acc improved from 0.26370 to 0.27400, saving model to model/best_cifar_model_surrogate_Black.h5\n",
      "9600/9600 [==============================] - 85s 9ms/sample - loss: 0.0425 - acc: 0.9877 - val_loss: 7.6421 - val_acc: 0.2740\n",
      "Epoch 4/10\n",
      "9536/9600 [============================>.] - ETA: 0s - loss: 0.0301 - acc: 0.9921\n",
      "Epoch 00004: val_acc did not improve from 0.27400\n",
      "9600/9600 [==============================] - 87s 9ms/sample - loss: 0.0304 - acc: 0.9921 - val_loss: 7.0692 - val_acc: 0.2642\n",
      "Epoch 5/10\n",
      "9536/9600 [============================>.] - ETA: 0s - loss: 0.0220 - acc: 0.9934\n",
      "Epoch 00005: val_acc did not improve from 0.27400\n",
      "9600/9600 [==============================] - 88s 9ms/sample - loss: 0.0220 - acc: 0.9933 - val_loss: 9.9434 - val_acc: 0.2530\n",
      "Epoch 6/10\n",
      "9536/9600 [============================>.] - ETA: 0s - loss: 0.0246 - acc: 0.9937\n",
      "Epoch 00006: val_acc did not improve from 0.27400\n",
      "9600/9600 [==============================] - 88s 9ms/sample - loss: 0.0248 - acc: 0.9936 - val_loss: 7.3041 - val_acc: 0.2664\n",
      "Epoch 7/10\n",
      "9536/9600 [============================>.] - ETA: 0s - loss: 0.0193 - acc: 0.9942\n",
      "Epoch 00007: val_acc did not improve from 0.27400\n",
      "9600/9600 [==============================] - 91s 9ms/sample - loss: 0.0192 - acc: 0.9943 - val_loss: 7.9011 - val_acc: 0.2573\n",
      "Epoch 8/10\n",
      "9536/9600 [============================>.] - ETA: 0s - loss: 0.0169 - acc: 0.9947\n",
      "Epoch 00008: val_acc did not improve from 0.27400\n",
      "9600/9600 [==============================] - 90s 9ms/sample - loss: 0.0168 - acc: 0.9947 - val_loss: 16.2666 - val_acc: 0.1910\n",
      "Epoch 9/10\n",
      "9536/9600 [============================>.] - ETA: 0s - loss: 0.0144 - acc: 0.9964\n",
      "Epoch 00009: val_acc did not improve from 0.27400\n",
      "9600/9600 [==============================] - 88s 9ms/sample - loss: 0.0143 - acc: 0.9965 - val_loss: 7.0131 - val_acc: 0.2292\n",
      "Epoch 10/10\n",
      "9536/9600 [============================>.] - ETA: 0s - loss: 0.0130 - acc: 0.9965\n",
      "Epoch 00010: val_acc did not improve from 0.27400\n",
      "9600/9600 [==============================] - 89s 9ms/sample - loss: 0.0133 - acc: 0.9965 - val_loss: 8.3215 - val_acc: 0.2286\n",
      "iteration: 7 x_train_attack shape: (19200, 32, 32, 3) y_train_attack shape: (19200, 10)\n",
      "Train on 19200 samples, validate on 10000 samples\n",
      "Epoch 1/10\n",
      "19136/19200 [============================>.] - ETA: 0s - loss: 0.0420 - acc: 0.9927\n",
      "Epoch 00001: val_acc did not improve from 0.27400\n",
      "19200/19200 [==============================] - 158s 8ms/sample - loss: 0.0419 - acc: 0.9928 - val_loss: 6.5568 - val_acc: 0.2299\n",
      "Epoch 2/10\n",
      "19136/19200 [============================>.] - ETA: 0s - loss: 0.0259 - acc: 0.9939\n",
      "Epoch 00002: val_acc did not improve from 0.27400\n",
      "19200/19200 [==============================] - 158s 8ms/sample - loss: 0.0258 - acc: 0.9940 - val_loss: 10.1338 - val_acc: 0.2131\n",
      "Epoch 3/10\n",
      "19136/19200 [============================>.] - ETA: 0s - loss: 0.0148 - acc: 0.9956\n",
      "Epoch 00003: val_acc did not improve from 0.27400\n",
      "19200/19200 [==============================] - 147s 8ms/sample - loss: 0.0148 - acc: 0.9956 - val_loss: 10.6010 - val_acc: 0.2447\n",
      "Epoch 4/10\n",
      "19136/19200 [============================>.] - ETA: 0s - loss: 0.0109 - acc: 0.9965\n",
      "Epoch 00004: val_acc did not improve from 0.27400\n",
      "19200/19200 [==============================] - 154s 8ms/sample - loss: 0.0109 - acc: 0.9965 - val_loss: 8.9406 - val_acc: 0.2225\n",
      "Epoch 5/10\n",
      "19136/19200 [============================>.] - ETA: 0s - loss: 0.0115 - acc: 0.9966\n",
      "Epoch 00005: val_acc did not improve from 0.27400\n",
      "19200/19200 [==============================] - 158s 8ms/sample - loss: 0.0115 - acc: 0.9966 - val_loss: 13.3705 - val_acc: 0.2080\n",
      "Epoch 6/10\n",
      "19136/19200 [============================>.] - ETA: 0s - loss: 0.0124 - acc: 0.9964\n",
      "Epoch 00006: val_acc did not improve from 0.27400\n",
      "19200/19200 [==============================] - 160s 8ms/sample - loss: 0.0123 - acc: 0.9965 - val_loss: 9.4929 - val_acc: 0.2269\n",
      "Epoch 7/10\n",
      "19136/19200 [============================>.] - ETA: 0s - loss: 0.0130 - acc: 0.9964\n",
      "Epoch 00007: val_acc did not improve from 0.27400\n",
      "19200/19200 [==============================] - 161s 8ms/sample - loss: 0.0129 - acc: 0.9965 - val_loss: 10.9238 - val_acc: 0.2301\n",
      "Epoch 8/10\n",
      "19136/19200 [============================>.] - ETA: 0s - loss: 0.0091 - acc: 0.9972\n",
      "Epoch 00008: val_acc did not improve from 0.27400\n",
      "19200/19200 [==============================] - 161s 8ms/sample - loss: 0.0091 - acc: 0.9972 - val_loss: 8.2163 - val_acc: 0.2262\n",
      "Epoch 9/10\n",
      "19136/19200 [============================>.] - ETA: 0s - loss: 0.0100 - acc: 0.9970\n",
      "Epoch 00009: val_acc did not improve from 0.27400\n",
      "19200/19200 [==============================] - 163s 8ms/sample - loss: 0.0100 - acc: 0.9970 - val_loss: 14.0969 - val_acc: 0.2424\n",
      "Epoch 10/10\n",
      " 4608/19200 [======>.......................] - ETA: 1:50 - loss: 0.0089 - acc: 0.9974\n",
      "Epoch 00010: val_acc did not improve from 0.27400\n",
      "19200/19200 [==============================] - 168s 9ms/sample - loss: 0.0112 - acc: 0.9968 - val_loss: 11.1111 - val_acc: 0.2428\n",
      "iteration: 8 x_train_attack shape: (38400, 32, 32, 3) y_train_attack shape: (38400, 10)\n",
      "Train on 38400 samples, validate on 10000 samples\n",
      "Epoch 1/10\n",
      "38336/38400 [============================>.] - ETA: 0s - loss: 0.0289 - acc: 0.9954\n",
      "Epoch 00001: val_acc did not improve from 0.27400\n",
      "38400/38400 [==============================] - 305s 8ms/sample - loss: 0.0289 - acc: 0.9954 - val_loss: 15.1083 - val_acc: 0.2043\n",
      "Epoch 2/10\n",
      "38336/38400 [============================>.] - ETA: 0s - loss: 0.0162 - acc: 0.9960\n",
      "Epoch 00003: val_acc did not improve from 0.27400\n",
      "38400/38400 [==============================] - 232s 6ms/sample - loss: 0.0161 - acc: 0.9960 - val_loss: 14.0050 - val_acc: 0.2058\n",
      "Epoch 4/10\n",
      "38336/38400 [============================>.] - ETA: 0s - loss: 0.0149 - acc: 0.9964\n",
      "Epoch 00004: val_acc did not improve from 0.27400\n",
      "38400/38400 [==============================] - 220s 6ms/sample - loss: 0.0148 - acc: 0.9964 - val_loss: 10.9237 - val_acc: 0.2031\n",
      "Epoch 5/10\n",
      "38336/38400 [============================>.] - ETA: 0s - loss: 0.0116 - acc: 0.9969\n",
      "Epoch 00005: val_acc did not improve from 0.27400\n",
      "38400/38400 [==============================] - 230s 6ms/sample - loss: 0.0116 - acc: 0.9969 - val_loss: 14.0042 - val_acc: 0.2151\n"
     ]
    },
    {
     "name": "stdout",
     "output_type": "stream",
     "text": [
      "Epoch 6/10\n",
      "38336/38400 [============================>.] - ETA: 0s - loss: 0.0089 - acc: 0.9972\n",
      "Epoch 00006: val_acc did not improve from 0.27400\n",
      "38400/38400 [==============================] - 228s 6ms/sample - loss: 0.0091 - acc: 0.9972 - val_loss: 21.5079 - val_acc: 0.1873\n",
      "Epoch 7/10\n",
      "38336/38400 [============================>.] - ETA: 0s - loss: 0.0115 - acc: 0.9972\n",
      "Epoch 00007: val_acc did not improve from 0.27400\n",
      "38400/38400 [==============================] - 233s 6ms/sample - loss: 0.0116 - acc: 0.9971 - val_loss: 22.5687 - val_acc: 0.1818\n",
      "Epoch 8/10\n",
      "38336/38400 [============================>.] - ETA: 0s - loss: 0.0099 - acc: 0.9972\n",
      "Epoch 00008: val_acc did not improve from 0.27400\n",
      "38400/38400 [==============================] - 225s 6ms/sample - loss: 0.0099 - acc: 0.9972 - val_loss: 12.0967 - val_acc: 0.2123\n",
      "Epoch 9/10\n",
      "38336/38400 [============================>.] - ETA: 0s - loss: 0.0088 - acc: 0.9976\n",
      "Epoch 00009: val_acc did not improve from 0.27400\n",
      "38400/38400 [==============================] - 220s 6ms/sample - loss: 0.0088 - acc: 0.9976 - val_loss: 24.0725 - val_acc: 0.1705\n",
      "Epoch 10/10\n",
      "38336/38400 [============================>.] - ETA: 0s - loss: 0.0065 - acc: 0.9980\n",
      "Epoch 00010: val_acc did not improve from 0.27400\n",
      "38400/38400 [==============================] - 227s 6ms/sample - loss: 0.0066 - acc: 0.9979 - val_loss: 16.5086 - val_acc: 0.2132\n",
      "iteration: 9 x_train_attack shape: (76800, 32, 32, 3) y_train_attack shape: (76800, 10)\n",
      "Train on 76800 samples, validate on 10000 samples\n",
      "Epoch 1/10\n",
      "76736/76800 [============================>.] - ETA: 0s - loss: 0.0171 - acc: 0.9971\n",
      "Epoch 00001: val_acc did not improve from 0.27400\n",
      "76800/76800 [==============================] - 447s 6ms/sample - loss: 0.0171 - acc: 0.9971 - val_loss: 17.0981 - val_acc: 0.1937\n",
      "Epoch 2/10\n",
      "76736/76800 [============================>.] - ETA: 0s - loss: 0.0165 - acc: 0.9966\n",
      "Epoch 00002: val_acc did not improve from 0.27400\n",
      "76800/76800 [==============================] - 415s 5ms/sample - loss: 0.0165 - acc: 0.9966 - val_loss: 16.2504 - val_acc: 0.1961\n",
      "Epoch 3/10\n",
      "76736/76800 [============================>.] - ETA: 0s - loss: 0.0185 - acc: 0.9971\n",
      "Epoch 00003: val_acc did not improve from 0.27400\n",
      "76800/76800 [==============================] - 412s 5ms/sample - loss: 0.0185 - acc: 0.9971 - val_loss: 31.8780 - val_acc: 0.1853\n",
      "Epoch 4/10\n",
      "76736/76800 [============================>.] - ETA: 0s - loss: 0.0129 - acc: 0.9971\n",
      "Epoch 00004: val_acc did not improve from 0.27400\n",
      "76800/76800 [==============================] - 413s 5ms/sample - loss: 0.0129 - acc: 0.9971 - val_loss: 25.3614 - val_acc: 0.1752\n",
      "Epoch 5/10\n",
      "76736/76800 [============================>.] - ETA: 0s - loss: 0.0107 - acc: 0.9976\n",
      "Epoch 00005: val_acc did not improve from 0.27400\n",
      "76800/76800 [==============================] - 443s 6ms/sample - loss: 0.0107 - acc: 0.9976 - val_loss: 22.2872 - val_acc: 0.2043\n",
      "Epoch 6/10\n",
      "76736/76800 [============================>.] - ETA: 0s - loss: 0.0085 - acc: 0.9979\n",
      "Epoch 00006: val_acc did not improve from 0.27400\n",
      "76800/76800 [==============================] - 447s 6ms/sample - loss: 0.0084 - acc: 0.9979 - val_loss: 17.6329 - val_acc: 0.2132\n",
      "Epoch 7/10\n",
      "76736/76800 [============================>.] - ETA: 0s - loss: 0.0089 - acc: 0.9979\n",
      "Epoch 00007: val_acc did not improve from 0.27400\n",
      "76800/76800 [==============================] - 441s 6ms/sample - loss: 0.0089 - acc: 0.9979 - val_loss: 23.2820 - val_acc: 0.2123\n",
      "Epoch 8/10\n",
      "76736/76800 [============================>.] - ETA: 0s - loss: 0.0082 - acc: 0.9982\n",
      "Epoch 00008: val_acc did not improve from 0.27400\n",
      "76800/76800 [==============================] - 444s 6ms/sample - loss: 0.0082 - acc: 0.9982 - val_loss: 35.9154 - val_acc: 0.1599\n",
      "Epoch 9/10\n",
      "76736/76800 [============================>.] - ETA: 0s - loss: 0.0080 - acc: 0.9984\n",
      "Epoch 00009: val_acc did not improve from 0.27400\n",
      "76800/76800 [==============================] - 436s 6ms/sample - loss: 0.0081 - acc: 0.9984 - val_loss: 14.1217 - val_acc: 0.2028\n",
      "Epoch 10/10\n",
      "76736/76800 [============================>.] - ETA: 0s - loss: 0.0060 - acc: 0.9986\n",
      "Epoch 00010: val_acc did not improve from 0.27400\n",
      "76800/76800 [==============================] - 435s 6ms/sample - loss: 0.0060 - acc: 0.9986 - val_loss: 40.4475 - val_acc: 0.1976\n"
     ]
    }
   ],
   "source": [
    "model_surrogate, history_list = Practical_black_box_attach(model_surrogate_fun = get_deep_cnn_for_cifar,\n",
    "                               x_train_attack = x_train_attack,\n",
    "                               y_train_attack = y_train_attack,\n",
    "                               x_test = x_test,\n",
    "                               y_test = y_test,\n",
    "                               lambda_update = 1,\n",
    "                               num_iter = 10,\n",
    "                               eval_metric = 'acc',\n",
    "                               delta = 0.3,\n",
    "                               path_store_surrogate_model = 'model/best_cifar_model_surrogate_Black.h5',\n",
    "                               batch_size_train = 64,\n",
    "                               batch_size_eval = 1024,\n",
    "                               epochs = 10)"
   ]
  },
  {
   "cell_type": "code",
   "execution_count": null,
   "metadata": {},
   "outputs": [],
   "source": []
  }
 ],
 "metadata": {
  "kernelspec": {
   "display_name": "Python 3",
   "language": "python",
   "name": "python3"
  },
  "language_info": {
   "codemirror_mode": {
    "name": "ipython",
    "version": 3
   },
   "file_extension": ".py",
   "mimetype": "text/x-python",
   "name": "python",
   "nbconvert_exporter": "python",
   "pygments_lexer": "ipython3",
   "version": "3.7.4"
  }
 },
 "nbformat": 4,
 "nbformat_minor": 2
}
