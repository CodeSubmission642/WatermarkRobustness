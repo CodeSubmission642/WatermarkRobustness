{
 "cells": [
  {
   "cell_type": "code",
   "execution_count": 1,
   "metadata": {},
   "outputs": [
    {
     "name": "stderr",
     "output_type": "stream",
     "text": [
      "Using TensorFlow backend.\n"
     ]
    },
    {
     "name": "stdout",
     "output_type": "stream",
     "text": [
      "WARNING:tensorflow:From /home/nlukas/local/anaconda3/envs/tf_no_gpu/lib/python3.7/site-packages/tensorflow/python/framework/op_def_library.py:263: colocate_with (from tensorflow.python.framework.ops) is deprecated and will be removed in a future version.\n",
      "Instructions for updating:\n",
      "Colocations handled automatically by placer.\n"
     ]
    }
   ],
   "source": [
    "%matplotlib inline \n",
    "import sys, os\n",
    "base_path = os.getcwd()[0:os.getcwd().rfind('Watermark')] + \"Watermark/\"\n",
    "sys.path.append(base_path) \n",
    "\n",
    "import matplotlib.pyplot as plt\n",
    "from src.usenix_main import usenix_blackbox\n",
    "from src.models import get_deep_cnn_for_cifar, get_lenet_model_for_mnist\n",
    "from src.preprocess_data import load_cifar_images, load_mnist_images\n",
    "from src.util import plot_blackbox"
   ]
  },
  {
   "cell_type": "markdown",
   "metadata": {},
   "source": [
    "# Description\n",
    "In this notebook we are running a surrogate model attack. The attacker and owner data is disjoint."
   ]
  },
  {
   "cell_type": "code",
   "execution_count": null,
   "metadata": {},
   "outputs": [
    {
     "name": "stdout",
     "output_type": "stream",
     "text": [
      "[1/4] USENIX Blackbox Attack: Loading MNIST data\n",
      "      Owner data: 30000 Attacker Data: 30000\n",
      "     Found cached training data for owner_data3000030000\n",
      "     Found cached training data for attacker_data3000030000\n",
      "[2/4] Training the network with 35 keys each repeated 100 times)\n"
     ]
    }
   ],
   "source": [
    "surr_model, all_history = usenix_blackbox(\n",
    "     load_dataset_func=load_mnist_images,  # Which dataset to choose. Should return training and testing data\n",
    "     dataset_label=\"MNIST\",  # Label of the dataset (for caching)\n",
    "     model=get_lenet_model_for_mnist(),  # Model specification for wm_embedding\n",
    "     surrogate_model=get_lenet_model_for_mnist(),\n",
    "     owner_data_size=30000,\n",
    "     total_owner_data_size=30000,\n",
    "     key_length=35,\n",
    "     wm_boost_factor=100,\n",
    "     attacker_data_size=30000,\n",
    "     total_attacker_data_size=30000,\n",
    "     epochs_embed=20,\n",
    "     epochs_surr=15,\n",
    "     batchsize_surr=64,\n",
    "     cache_embed_wm=\"usenix_mnist_30000\",\n",
    "     verbose=True\n",
    ")"
   ]
  },
  {
   "cell_type": "code",
   "execution_count": null,
   "metadata": {},
   "outputs": [],
   "source": [
    "plot_blackbox(all_history)"
   ]
  },
  {
   "cell_type": "code",
   "execution_count": null,
   "metadata": {},
   "outputs": [],
   "source": []
  }
 ],
 "metadata": {
  "kernelspec": {
   "display_name": "Python 3",
   "language": "python",
   "name": "python3"
  },
  "language_info": {
   "codemirror_mode": {
    "name": "ipython",
    "version": 3
   },
   "file_extension": ".py",
   "mimetype": "text/x-python",
   "name": "python",
   "nbconvert_exporter": "python",
   "pygments_lexer": "ipython3",
   "version": "3.7.3"
  }
 },
 "nbformat": 4,
 "nbformat_minor": 2
}
