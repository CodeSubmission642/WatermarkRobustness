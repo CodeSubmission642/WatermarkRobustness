{
 "cells": [
  {
   "cell_type": "code",
   "execution_count": 1,
   "metadata": {},
   "outputs": [
    {
     "name": "stderr",
     "output_type": "stream",
     "text": [
      "Using TensorFlow backend.\n"
     ]
    },
    {
     "name": "stdout",
     "output_type": "stream",
     "text": [
      "WARNING:tensorflow:From /home/nlukas/anaconda3/envs/tf-no-gpu/lib/python3.7/site-packages/tensorflow/python/framework/op_def_library.py:263: colocate_with (from tensorflow.python.framework.ops) is deprecated and will be removed in a future version.\n",
      "Instructions for updating:\n",
      "Colocations handled automatically by placer.\n"
     ]
    }
   ],
   "source": [
    "%matplotlib inline \n",
    "import sys, os\n",
    "base_path = os.getcwd()[0:os.getcwd().rfind('Watermark')] + \"Watermark/\"\n",
    "sys.path.append(base_path) \n",
    "\n",
    "import matplotlib.pyplot as plt\n",
    "from src.asiaccs_main import asiaccs_whitebox\n",
    "from src.models import get_deep_cnn_for_cifar, get_lenet_model_for_mnist\n",
    "from src.preprocess_data import load_cifar_images, load_mnist_images"
   ]
  },
  {
   "cell_type": "markdown",
   "metadata": {},
   "source": [
    "# Description\n",
    "In this notebook we are running a surrogate model attack. The attacker and owner data is disjoint."
   ]
  },
  {
   "cell_type": "code",
   "execution_count": null,
   "metadata": {},
   "outputs": [
    {
     "name": "stdout",
     "output_type": "stream",
     "text": [
      "[1/6] ASIACCS (logo) Whitebox Attack: Loading CIFAR data\n",
      "      Owner data: 100000 Attacker Data: 100000\n",
      "10%..20%..30%..40%..50%..60%..70%..80%..89%..99%..100%! Done!\n",
      "10%..20%..30%..40%..50%..60%..70%..80%..89%..99%..100%! Done!\n",
      "[2/6] Generating ASIACCS watermarked images: Train(10000) Test(1000)\n",
      "Embedding logo watermarks\n"
     ]
    },
    {
     "name": "stderr",
     "output_type": "stream",
     "text": [
      "Clipping input data to the valid range for imshow with RGB data ([0..1] for floats or [0..255] for integers).\n"
     ]
    },
    {
     "name": "stdout",
     "output_type": "stream",
     "text": [
      "Watermark color: 1.059551477432251\n",
      "(Embed Logo) Plot class: [0. 0. 0. 0. 0. 0. 1. 0. 0. 0.]\n"
     ]
    },
    {
     "name": "stderr",
     "output_type": "stream",
     "text": [
      "Clipping input data to the valid range for imshow with RGB data ([0..1] for floats or [0..255] for integers).\n"
     ]
    },
    {
     "data": {
      "image/png": "[encoded data removed]",
      "text/plain": [
       "<Figure size 432x288 with 2 Axes>"
      ]
     },
     "metadata": {
      "needs_background": "light"
     },
     "output_type": "display_data"
    },
    {
     "name": "stdout",
     "output_type": "stream",
     "text": [
      "Embedding logo watermarks\n",
      "Watermark color: 1.059551477432251\n"
     ]
    },
    {
     "name": "stderr",
     "output_type": "stream",
     "text": [
      "Clipping input data to the valid range for imshow with RGB data ([0..1] for floats or [0..255] for integers).\n"
     ]
    },
    {
     "name": "stdout",
     "output_type": "stream",
     "text": [
      "(Embed Logo) Plot class: [0. 0. 0. 0. 1. 0. 0. 0. 0. 0.]\n"
     ]
    },
    {
     "name": "stderr",
     "output_type": "stream",
     "text": [
      "Clipping input data to the valid range for imshow with RGB data ([0..1] for floats or [0..255] for integers).\n"
     ]
    },
    {
     "data": {
      "image/png": "[encoded data removed]",
      "text/plain": [
       "<Figure size 432x288 with 2 Axes>"
      ]
     },
     "metadata": {
      "needs_background": "light"
     },
     "output_type": "display_data"
    },
    {
     "name": "stdout",
     "output_type": "stream",
     "text": [
      "(Debug) Asiaccs whitebox:\n",
      "Owner: -9.112332008953672e-06, Attacker: 2.029012875937042e-06, test: 0.01066475361585617, trigger: -1.908138632774353, trigger_test: -1.9074947834014893\n",
      "[3/6] Training the original model and embedding the watermark\n",
      "WARNING:tensorflow:From /home/nlukas/anaconda3/envs/tf-no-gpu/lib/python3.7/site-packages/keras/backend/tensorflow_backend.py:3445: calling dropout (from tensorflow.python.ops.nn_ops) with keep_prob is deprecated and will be removed in a future version.\n",
      "Instructions for updating:\n",
      "Please use `rate` instead of `keep_prob`. Rate should be set to `rate = 1 - keep_prob`.\n",
      "WARNING:tensorflow:From /home/nlukas/anaconda3/envs/tf-no-gpu/lib/python3.7/site-packages/tensorflow/python/ops/math_ops.py:3066: to_int32 (from tensorflow.python.ops.math_ops) is deprecated and will be removed in a future version.\n",
      "Instructions for updating:\n",
      "Use tf.cast instead.\n",
      "Train on 110000 samples, validate on 10000 samples\n",
      "Epoch 1/20\n",
      "110000/110000 [==============================] - 818s 7ms/step - loss: 1.0895 - acc: 0.6290 - val_loss: 1.1135 - val_acc: 0.6669\n",
      "=> Time: : 817.9655430316925\n",
      "=> watermark_new_val: 0.169\n",
      "=> watermark_val: 0.2349\n",
      "Epoch 2/20\n",
      "110000/110000 [==============================] - 817s 7ms/step - loss: 0.6183 - acc: 0.7859 - val_loss: 0.6877 - val_acc: 0.7772\n",
      "=> Time: : 816.6027672290802\n",
      "=> watermark_new_val: 1.0\n",
      "=> watermark_val: 1.0\n",
      "Epoch 3/20\n",
      "110000/110000 [==============================] - 814s 7ms/step - loss: 0.4701 - acc: 0.8389 - val_loss: 0.5644 - val_acc: 0.8162\n",
      "=> Time: : 813.8644731044769\n",
      "=> watermark_new_val: 1.0\n",
      "=> watermark_val: 1.0\n",
      "Epoch 4/20\n",
      "110000/110000 [==============================] - 814s 7ms/step - loss: 0.3712 - acc: 0.8725 - val_loss: 0.5622 - val_acc: 0.8271\n",
      "=> Time: : 813.7071783542633\n",
      "=> watermark_new_val: 1.0\n",
      "=> watermark_val: 1.0\n",
      "Epoch 5/20\n",
      "110000/110000 [==============================] - 813s 7ms/step - loss: 0.3010 - acc: 0.8963 - val_loss: 0.5879 - val_acc: 0.8281\n",
      "=> Time: : 812.8625118732452\n",
      "=> watermark_new_val: 1.0\n",
      "=> watermark_val: 1.0\n",
      "Epoch 6/20\n",
      "110000/110000 [==============================] - 811s 7ms/step - loss: 0.2499 - acc: 0.9144 - val_loss: 0.6261 - val_acc: 0.8253\n",
      "=> Time: : 810.5543036460876\n",
      "=> watermark_new_val: 1.0\n",
      "=> watermark_val: 1.0\n",
      "Epoch 7/20\n",
      "110000/110000 [==============================] - 812s 7ms/step - loss: 0.2086 - acc: 0.9286 - val_loss: 0.7301 - val_acc: 0.8196\n",
      "=> Time: : 811.9560956954956\n",
      "=> watermark_new_val: 1.0\n",
      "=> watermark_val: 1.0\n",
      "Epoch 8/20\n",
      "110000/110000 [==============================] - 816s 7ms/step - loss: 0.1822 - acc: 0.9375 - val_loss: 0.7204 - val_acc: 0.8289\n",
      "=> Time: : 815.879900932312\n",
      "=> watermark_new_val: 1.0\n",
      "=> watermark_val: 1.0\n",
      "Epoch 9/20\n",
      "110000/110000 [==============================] - 821s 7ms/step - loss: 0.1609 - acc: 0.9455 - val_loss: 0.7311 - val_acc: 0.8310\n",
      "=> Time: : 820.9859902858734\n",
      "=> watermark_new_val: 1.0\n",
      "=> watermark_val: 1.0\n",
      "Epoch 10/20\n",
      "110000/110000 [==============================] - 1032s 9ms/step - loss: 0.1425 - acc: 0.9512 - val_loss: 0.8673 - val_acc: 0.8283\n",
      "=> Time: : 1032.4731516838074\n",
      "=> watermark_new_val: 1.0\n",
      "=> watermark_val: 1.0\n",
      "Epoch 11/20\n",
      "110000/110000 [==============================] - 1049s 10ms/step - loss: 0.1311 - acc: 0.9555 - val_loss: 0.7383 - val_acc: 0.8343\n",
      "=> Time: : 1048.6581904888153\n",
      "=> watermark_new_val: 1.0\n",
      "=> watermark_val: 1.0\n",
      "Epoch 12/20\n",
      "110000/110000 [==============================] - 1048s 10ms/step - loss: 0.1206 - acc: 0.9593 - val_loss: 0.8123 - val_acc: 0.8362\n",
      "=> Time: : 1048.3584127426147\n",
      "=> watermark_new_val: 1.0\n",
      "=> watermark_val: 1.0\n",
      "Epoch 13/20\n",
      " 36288/110000 [========>.....................] - ETA: 11:24 - loss: 0.1012 - acc: 0.9651"
     ]
    }
   ],
   "source": [
    "surr_model, all_history = asiaccs_whitebox(\n",
    "     load_dataset_func=load_cifar_images,\n",
    "     dataset_label=\"CIFAR\",\n",
    "     load_wm_model_func=get_deep_cnn_for_cifar,\n",
    "     wm_type=\"logo\",\n",
    "     owner_data_size=25000,\n",
    "     total_owner_data_size=100000,\n",
    "     key_length=10000,\n",
    "     key_length_test=1000,\n",
    "     attacker_data_size=25000,\n",
    "     total_attacker_data_size=100000,\n",
    "     attacker_data_size_reg=3000,\n",
    "     epochs_embed=20,\n",
    "     epochs_reg=30,\n",
    "     epochs_surr=15,\n",
    "     freeze_first_layers=0,\n",
    "     early_stopping_wm_reg=0.1,  \n",
    "     lr_surr=0.001,  \n",
    "     reg_whitebox=0.003,\n",
    "     reg_surr=0,\n",
    "     batchsize_reg=64,\n",
    "     batchsize_surr=64,\n",
    "     cache_embed_wm=\"asiaccs_logo_cifar\",\n",
    "     cache_reg_model=None,\n",
    "     cache_surr_model=None,\n",
    "     verbose=True\n",
    ")"
   ]
  },
  {
   "cell_type": "code",
   "execution_count": null,
   "metadata": {},
   "outputs": [],
   "source": [
    "embed_history, reg_history, surr_history = all_history\n",
    "for history in all_history:\n",
    "    print(history.history.keys())\n",
    "\n",
    "plt.figure(figsize=(20,10))\n",
    "params = {'legend.fontsize': 20,\n",
    "          'legend.handlelength': 2,\n",
    "          'font.size': 16}\n",
    "test_acc_color = \"navy\"\n",
    "linestyle_test_acc = \"x-\"\n",
    "linestyle_watermark = \"x--\"\n",
    "watermark_ret_color = \"green\"\n",
    "watermark_ret_color2 = \"green\"\n",
    "linewidth = 3.0\n",
    "markersize = 12\n",
    "\n",
    "# Merge all times\n",
    "time_arr = embed_history.history['time']\n",
    "x_axis_time = []\n",
    "for i in range(0, len(time_arr)):\n",
    "    t = time_arr[i]\n",
    "    for j in range(0,i):\n",
    "        t += time_arr[j]\n",
    "    x_axis_time.append(t/60)\n",
    "offset = x_axis_time[-1]\n",
    "time_arr2 = reg_history.history['time']\n",
    "for i in range(0, len(time_arr2)):\n",
    "    t = time_arr2[i]\n",
    "    for j in range(0,i):\n",
    "        t += time_arr2[j]\n",
    "    x_axis_time.append(t/60+offset)\n",
    "offset2 = x_axis_time[-1]\n",
    "time_arr3 = surr_history.history['time']\n",
    "for i in range(0, len(time_arr3)):\n",
    "    t = time_arr3[i]\n",
    "    for j in range(0,i):\n",
    "        t += time_arr3[j]\n",
    "    x_axis_time.append(t/60+offset2)\n",
    "\n",
    "# Merge all values\n",
    "y_axis_acc = embed_history.history['val_acc'] + reg_history.history['val_acc'] + surr_history.history['val_acc']\n",
    "y_axis_wm = embed_history.history['watermark_val'] + reg_history.history['watermark_val'] + surr_history.history['watermark_val']\n",
    "    \n",
    "plt.xlabel('Time in min', fontsize=26)\n",
    "plt.ylabel('Accuracy', fontsize=26)\n",
    "\n",
    "lh1, lh2, lh3 = len(embed_history.history['val_acc']), len(reg_history.history['val_acc']), len(surr_history.history['val_acc'])\n",
    "\n",
    "plt.plot(x_axis_time, y_axis_acc, linestyle_test_acc, linewidth=linewidth, markersize=markersize, color=test_acc_color)\n",
    "plt.plot(x_axis_time, y_axis_wm, linestyle_watermark, linewidth=linewidth, markersize=markersize, color=watermark_ret_color2)\n",
    "\n",
    "plt.axvline(x_axis_time[lh1], linestyle=':', color='red')\n",
    "plt.axvline(x_axis_time[lh1+lh2], linestyle=':', color='red')\n",
    "\n",
    "# Annotate accuracy data points\n",
    "dat_y = y_axis_acc\n",
    "dat_x = x_axis_time\n",
    "ctr = 0\n",
    "for xy in zip(dat_x, dat_y):    \n",
    "    if ctr % 3 == 0 or ctr == len(dat_y):\n",
    "        plt.annotate(\"{:.3f}\".format(xy[1]), xy=(xy[0], xy[1]+0.02), textcoords='data', fontsize=14) # <--  \n",
    "    ctr += 1\n",
    "    \n",
    "# Annotate wm data points\n",
    "dat_y = y_axis_wm\n",
    "dat_x = x_axis_time\n",
    "ctr = 0\n",
    "for xy in zip(dat_x, dat_y):    \n",
    "    if ctr % 3 == 0 or ctr == len(dat_y):\n",
    "        plt.annotate(\"{:.3f}\".format(xy[1]), xy=(xy[0], xy[1]+0.02), textcoords='data', fontsize=14) # <--  \n",
    "    ctr += 1\n",
    "\n",
    "plt.ylim(0,1.05)\n",
    "plt.xlim(0)\n",
    "\n",
    "plt.grid()\n",
    "\n",
    "plt.legend(['test accuracy', 'wm retention'], loc='lower left')\n",
    "plt.show()"
   ]
  },
  {
   "cell_type": "code",
   "execution_count": null,
   "metadata": {},
   "outputs": [],
   "source": []
  }
 ],
 "metadata": {
  "kernelspec": {
   "display_name": "Python 3",
   "language": "python",
   "name": "python3"
  },
  "language_info": {
   "codemirror_mode": {
    "name": "ipython",
    "version": 3
   },
   "file_extension": ".py",
   "mimetype": "text/x-python",
   "name": "python",
   "nbconvert_exporter": "python",
   "pygments_lexer": "ipython3",
   "version": "3.6.7"
  }
 },
 "nbformat": 4,
 "nbformat_minor": 2
}
