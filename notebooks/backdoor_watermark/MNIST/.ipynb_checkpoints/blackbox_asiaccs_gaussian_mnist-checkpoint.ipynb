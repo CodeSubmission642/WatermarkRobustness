{
 "cells": [
  {
   "cell_type": "code",
   "execution_count": 1,
   "metadata": {},
   "outputs": [
    {
     "name": "stderr",
     "output_type": "stream",
     "text": [
      "Using TensorFlow backend.\n"
     ]
    },
    {
     "name": "stdout",
     "output_type": "stream",
     "text": [
      "WARNING:tensorflow:From /home/overholt/Desktop/Watermark/venv/lib/python3.6/site-packages/tensorflow/python/framework/op_def_library.py:263: colocate_with (from tensorflow.python.framework.ops) is deprecated and will be removed in a future version.\n",
      "Instructions for updating:\n",
      "Colocations handled automatically by placer.\n"
     ]
    }
   ],
   "source": [
    "%matplotlib inline \n",
    "import sys, os\n",
    "base_path = os.getcwd()[0:os.getcwd().rfind('Watermark')] + \"Watermark/\"\n",
    "sys.path.append(base_path) \n",
    "\n",
    "import matplotlib.pyplot as plt\n",
    "from src.asiaccs_main import asiaccs_blackbox\n",
    "from src.models import get_deep_cnn_for_cifar, get_lenet_model_for_mnist\n",
    "from src.preprocess_data import load_cifar_images, load_mnist_images"
   ]
  },
  {
   "cell_type": "markdown",
   "metadata": {},
   "source": [
    "# Description\n",
    "In this notebook we are running a surrogate model attack. The attacker and owner data is disjoint."
   ]
  },
  {
   "cell_type": "code",
   "execution_count": 2,
   "metadata": {
    "scrolled": true
   },
   "outputs": [
    {
     "name": "stdout",
     "output_type": "stream",
     "text": [
      "[1/5] (gaussian) Blackbox Attack: Loading MNIST data\n",
      "      Owner data: 30000 Attacker Data: 3000\n",
      "     Found cached training data for owner_data300003000\n",
      "     Found cached training data for attacker_data300003000\n",
      "[2/5] Generating ASIACCS watermarked images: Train(2000) Test(1000)\n",
      "Embedding gaussian watermarks\n",
      "(Gaussian) Plot class: [0. 0. 0. 1. 0. 0. 0. 0. 0. 0.]\n",
      "(Gaussian) Plot class: [0, 0, 0, 0, 0, 1, 0, 0, 0, 0]\n"
     ]
    },
    {
     "data": {
      "image/png": "[encoded data removed]",
      "text/plain": [
       "<Figure size 432x288 with 2 Axes>"
      ]
     },
     "metadata": {
      "needs_background": "light"
     },
     "output_type": "display_data"
    },
    {
     "name": "stdout",
     "output_type": "stream",
     "text": [
      "Embedding gaussian watermarks\n",
      "(Gaussian) Plot class: [0. 0. 0. 0. 1. 0. 0. 0. 0. 0.]\n",
      "(Gaussian) Plot class: [0, 0, 0, 0, 0, 1, 0, 0, 0, 0]\n"
     ]
    },
    {
     "data": {
      "image/png": "[encoded data removed]",
      "text/plain": [
       "<Figure size 432x288 with 2 Axes>"
      ]
     },
     "metadata": {
      "needs_background": "light"
     },
     "output_type": "display_data"
    },
    {
     "name": "stdout",
     "output_type": "stream",
     "text": [
      "[3/5] Training the original model and embedding the watermark\n",
      "WARNING:tensorflow:From /home/overholt/Desktop/Watermark/venv/lib/python3.6/site-packages/tensorflow/python/ops/math_ops.py:3066: to_int32 (from tensorflow.python.ops.math_ops) is deprecated and will be removed in a future version.\n",
      "Instructions for updating:\n",
      "Use tf.cast instead.\n",
      "Train on 32000 samples, validate on 10000 samples\n",
      "Epoch 1/10\n",
      "32000/32000 [==============================] - 42s 1ms/step - loss: 0.1601 - acc: 0.9502 - val_loss: 0.0585 - val_acc: 0.9821\n",
      "=> Time: : 42.02162194252014\n",
      "=> watermark_new_val: 1.0\n",
      "=> watermark_val: 1.0\n",
      "Epoch 2/10\n",
      "32000/32000 [==============================] - 73s 2ms/step - loss: 0.0506 - acc: 0.9842 - val_loss: 0.0567 - val_acc: 0.9813\n",
      "=> Time: : 72.6537573337555\n",
      "=> watermark_new_val: 1.0\n",
      "=> watermark_val: 1.0\n",
      "Epoch 3/10\n",
      "32000/32000 [==============================] - 44s 1ms/step - loss: 0.0320 - acc: 0.9898 - val_loss: 0.0497 - val_acc: 0.9833\n",
      "=> Time: : 44.08043837547302\n",
      "=> watermark_new_val: 1.0\n",
      "=> watermark_val: 1.0\n",
      "Epoch 4/10\n",
      "32000/32000 [==============================] - 67s 2ms/step - loss: 0.0238 - acc: 0.9916 - val_loss: 0.0429 - val_acc: 0.9873\n",
      "=> Time: : 66.63064384460449\n",
      "=> watermark_new_val: 1.0\n",
      "=> watermark_val: 1.0\n",
      "Saving the model to the cache to 'MNISTasiaccs_gaussian_mnist_3000'\n",
      "3000/3000 [==============================] - 3s 968us/step\n",
      "    Done! Original models accuracy on attackers data: 0.9790000001589457\n",
      "[4/5] Labeling the attackers data with the original model\n",
      "[5/5] Training the surrogate model\n",
      "Train on 3000 samples, validate on 10000 samples\n",
      "Epoch 1/10\n",
      "3000/3000 [==============================] - 11s 4ms/step - loss: 0.7671 - acc: 0.7523 - val_loss: 0.2449 - val_acc: 0.9282\n",
      "=> Time: : 10.639872074127197\n",
      "=> watermark_new_val: 0.0\n",
      "=> watermark_val: 0.0\n",
      "Epoch 2/10\n",
      "3000/3000 [==============================] - 10s 3ms/step - loss: 0.1982 - acc: 0.9397 - val_loss: 0.1847 - val_acc: 0.9441\n",
      "=> Time: : 9.898839473724365\n",
      "=> watermark_new_val: 0.0\n",
      "=> watermark_val: 0.0\n",
      "Epoch 3/10\n",
      "3000/3000 [==============================] - 12s 4ms/step - loss: 0.1334 - acc: 0.9673 - val_loss: 0.1803 - val_acc: 0.9438\n",
      "=> Time: : 12.077475309371948\n",
      "=> watermark_new_val: 0.0\n",
      "=> watermark_val: 0.0\n",
      "Epoch 4/10\n",
      "3000/3000 [==============================] - 15s 5ms/step - loss: 0.1139 - acc: 0.9730 - val_loss: 0.1115 - val_acc: 0.9670\n",
      "=> Time: : 14.744505882263184\n",
      "=> watermark_new_val: 0.0\n",
      "=> watermark_val: 0.0\n",
      "Epoch 5/10\n",
      "3000/3000 [==============================] - 15s 5ms/step - loss: 0.0956 - acc: 0.9807 - val_loss: 0.1171 - val_acc: 0.9632\n",
      "=> Time: : 15.307612895965576\n",
      "=> watermark_new_val: 0.0\n",
      "=> watermark_val: 0.0\n",
      "Epoch 6/10\n",
      "3000/3000 [==============================] - 14s 5ms/step - loss: 0.0796 - acc: 0.9877 - val_loss: 0.1038 - val_acc: 0.9679\n",
      "=> Time: : 13.526397705078125\n",
      "=> watermark_new_val: 0.0\n",
      "=> watermark_val: 0.0\n",
      "Epoch 7/10\n",
      "3000/3000 [==============================] - 13s 4ms/step - loss: 0.0701 - acc: 0.9917 - val_loss: 0.0910 - val_acc: 0.9715\n",
      "=> Time: : 13.023074388504028\n",
      "=> watermark_new_val: 1.0\n",
      "=> watermark_val: 0.999\n"
     ]
    }
   ],
   "source": [
    "surr_model, all_history = asiaccs_blackbox(\n",
    "     load_dataset_func=load_mnist_images,  # Which dataset to choose. Should return training and testing data\n",
    "     dataset_label=\"MNIST\",  # Label of the dataset (for caching)\n",
    "     model=get_lenet_model_for_mnist(),  # Model specification for wm_embedding\n",
    "     surrogate_model=get_lenet_model_for_mnist(),\n",
    "     wm_type=\"gaussian\", # logo or gaussian\n",
    "     owner_data_size=30000,\n",
    "     total_owner_data_size=30000,\n",
    "     key_length=2000,\n",
    "     key_length_test=1000,\n",
    "     attacker_data_size=30000,\n",
    "     total_attacker_data_size=3000,\n",
    "     epochs_embed=10,\n",
    "     epochs_surr=10,\n",
    "     batchsize_surr=64,\n",
    "     cache_embed_wm=\"asiaccs_gaussian_mnist_3000\",\n",
    "     cache_surr_model=None,\n",
    "     verbose=True\n",
    ")"
   ]
  },
  {
   "cell_type": "code",
   "execution_count": null,
   "metadata": {},
   "outputs": [],
   "source": []
  },
  {
   "cell_type": "code",
   "execution_count": 4,
   "metadata": {},
   "outputs": [
    {
     "name": "stdout",
     "output_type": "stream",
     "text": [
      "dict_keys(['val_loss', 'val_acc', 'loss', 'acc', 'watermark_new_loss', 'watermark_new_val', 'watermark_loss', 'watermark_val', 'time', 'time_total'])\n",
      "dict_keys(['val_loss', 'val_acc', 'loss', 'acc', 'watermark_new_loss', 'watermark_new_val', 'watermark_loss', 'watermark_val', 'time', 'time_total'])\n",
      "3.7564410249392193\n",
      "[0.700360365708669, 1.9112563212712605, 2.645930294195811, 3.7564410249392193, 3.9337722261746726, 4.098752884070079, 4.300044139226278, 4.545785903930664, 4.80091278553009, 5.0263527472813925, 5.243403987089793]\n"
     ]
    },
    {
     "data": {
      "image/png": "[encoded data removed]",
      "text/plain": [
       "<Figure size 1440x720 with 1 Axes>"
      ]
     },
     "metadata": {
      "needs_background": "light"
     },
     "output_type": "display_data"
    }
   ],
   "source": [
    "embed_history, surr_history = all_history\n",
    "for history in all_history:\n",
    "    print(history.history.keys())\n",
    "    \n",
    "last_index = 17\n",
    "surr_history_cut = {}\n",
    "surr_history_cut[\"watermark_val\"] = surr_history.history[\"watermark_val\"][:last_index]\n",
    "surr_history_cut[\"val_acc\"] = surr_history.history[\"val_acc\"][:last_index]\n",
    "surr_history_cut[\"time\"] = surr_history.history[\"time\"][0:last_index]\n",
    "\n",
    "plt.figure(figsize=(20,10))\n",
    "params = {'legend.fontsize': 20,\n",
    "          'legend.handlelength': 2,\n",
    "          'font.size': 16}\n",
    "test_acc_color = \"navy\"\n",
    "linestyle_test_acc = \"x-\"\n",
    "linestyle_watermark = \"x--\"\n",
    "watermark_ret_color = \"green\"\n",
    "watermark_ret_color2 = \"green\"\n",
    "linewidth = 3.0\n",
    "markersize = 12\n",
    "\n",
    "# Create the x axis by joining together all time values\n",
    "time_arr = embed_history.history['time']\n",
    "x_axis_time = []\n",
    "for i in range(0, len(time_arr)):\n",
    "    t = time_arr[i]\n",
    "    for j in range(0,i):\n",
    "        t += time_arr[j]\n",
    "    x_axis_time.append(t/60)\n",
    "offset = x_axis_time[-1]\n",
    "print(offset)\n",
    "time_arr2 = surr_history_cut['time']\n",
    "for i in range(0, len(time_arr2)):\n",
    "    t = time_arr2[i]\n",
    "    for j in range(0,i):\n",
    "        t += time_arr2[j]\n",
    "    x_axis_time.append(t/60+offset)\n",
    "print(x_axis_time)\n",
    "    \n",
    "plt.xlabel('Time in min', fontsize=26)\n",
    "plt.ylabel('Accuracy', fontsize=26)\n",
    "\n",
    "lh1, lh2 = len(embed_history.history['val_acc']), len(surr_history_cut['watermark_val'])\n",
    "plt.plot(x_axis_time[:lh1], embed_history.history['val_acc'], linestyle_test_acc, linewidth=linewidth, markersize=markersize, color=test_acc_color)\n",
    "plt.plot(x_axis_time[:lh1], embed_history.history['watermark_val'], linestyle_watermark, linewidth=linewidth, markersize=markersize, color=watermark_ret_color2)\n",
    "\n",
    "plt.plot(x_axis_time[-lh2:], surr_history_cut['val_acc'], linestyle_test_acc, linewidth=linewidth, markersize=markersize, color=test_acc_color)\n",
    "plt.plot(x_axis_time[-lh2:], surr_history_cut['watermark_val'], linestyle_watermark, linewidth=linewidth, markersize=markersize, color=watermark_ret_color2)\n",
    "\n",
    "plt.axvline(x_axis_time[len(embed_history.history['val_acc'])-1], linestyle=':', color='red')\n",
    "\n",
    "# Annotate data points for surrogate model \n",
    "dat_y = surr_history_cut['val_acc']\n",
    "dat_x = x_axis_time[-lh2:]\n",
    "ctr = 0\n",
    "for xy in zip(dat_x, dat_y):    \n",
    "    if ctr % 3 == 0 or ctr == len(dat_y)-1:\n",
    "        plt.annotate(\"{:.3f}\".format(xy[1]), xy=(xy[0], xy[1]+0.02), textcoords='data', fontsize=14) # <--  \n",
    "    ctr += 1\n",
    "\n",
    "# Annotate data points for watermark model \n",
    "dat_y = embed_history.history['val_acc']\n",
    "dat_x = x_axis_time[:lh1]\n",
    "ctr = 0\n",
    "for xy in zip(dat_x, dat_y):    \n",
    "    if ctr % 3 == 0 or ctr == len(dat_y):\n",
    "        plt.annotate(\"{:.3f}\".format(xy[1]), xy=(xy[0], xy[1]+0.02), textcoords='data', fontsize=14) # <--  \n",
    "    ctr += 1\n",
    "\n",
    "plt.ylim(0,1.05)\n",
    "plt.xlim(0)\n",
    "\n",
    "plt.grid()\n",
    "\n",
    "plt.legend(['test accuracy', 'wm retention'], loc='lower left')\n",
    "plt.show()"
   ]
  },
  {
   "cell_type": "code",
   "execution_count": null,
   "metadata": {},
   "outputs": [],
   "source": []
  }
 ],
 "metadata": {
  "kernelspec": {
   "display_name": "Python 3",
   "language": "python",
   "name": "python3"
  },
  "language_info": {
   "codemirror_mode": {
    "name": "ipython",
    "version": 3
   },
   "file_extension": ".py",
   "mimetype": "text/x-python",
   "name": "python",
   "nbconvert_exporter": "python",
   "pygments_lexer": "ipython3",
   "version": "3.6.7"
  }
 },
 "nbformat": 4,
 "nbformat_minor": 2
}
