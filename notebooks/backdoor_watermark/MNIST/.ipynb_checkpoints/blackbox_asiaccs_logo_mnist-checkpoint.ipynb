{
 "cells": [
  {
   "cell_type": "code",
   "execution_count": 1,
   "metadata": {},
   "outputs": [
    {
     "name": "stderr",
     "output_type": "stream",
     "text": [
      "Using TensorFlow backend.\n"
     ]
    },
    {
     "name": "stdout",
     "output_type": "stream",
     "text": [
      "WARNING:tensorflow:From /home/overholt/Desktop/Watermark/venv/lib/python3.6/site-packages/tensorflow/python/framework/op_def_library.py:263: colocate_with (from tensorflow.python.framework.ops) is deprecated and will be removed in a future version.\n",
      "Instructions for updating:\n",
      "Colocations handled automatically by placer.\n"
     ]
    }
   ],
   "source": [
    "%matplotlib inline \n",
    "import sys, os\n",
    "base_path = os.getcwd()[0:os.getcwd().rfind('Watermark')] + \"Watermark/\"\n",
    "sys.path.append(base_path) \n",
    "\n",
    "import matplotlib.pyplot as plt\n",
    "from src.asiaccs_main import asiaccs_blackbox\n",
    "from src.models import get_deep_cnn_for_cifar, get_lenet_model_for_mnist\n",
    "from src.preprocess_data import load_cifar_images, load_mnist_images"
   ]
  },
  {
   "cell_type": "markdown",
   "metadata": {},
   "source": [
    "# Description\n",
    "In this notebook we are running a surrogate model attack. The attacker and owner data is disjoint."
   ]
  },
  {
   "cell_type": "code",
   "execution_count": null,
   "metadata": {},
   "outputs": [
    {
     "name": "stdout",
     "output_type": "stream",
     "text": [
      "[1/5] (logo) Blackbox Attack: Loading MNIST data\n",
      "      Owner data: 30000 Attacker Data: 5000\n",
      "     Found cached training data for owner_data300005000\n",
      "     Found cached training data for attacker_data300005000\n",
      "[2/5] Generating ASIACCS watermarked images: Train(2000) Test(1000)\n",
      "Embedding logo watermarks\n",
      "Watermark color: 1.4137503351899232\n",
      "(Embed Logo) Plot class: [0. 0. 0. 0. 0. 0. 1. 0. 0. 0.]\n"
     ]
    },
    {
     "data": {
      "image/png": "[encoded data removed]",
      "text/plain": [
       "<Figure size 432x288 with 2 Axes>"
      ]
     },
     "metadata": {
      "needs_background": "light"
     },
     "output_type": "display_data"
    },
    {
     "name": "stdout",
     "output_type": "stream",
     "text": [
      "Embedding logo watermarks\n",
      "Watermark color: 1.4137503351899232\n",
      "(Embed Logo) Plot class: [0. 0. 0. 0. 0. 0. 1. 0. 0. 0.]\n"
     ]
    },
    {
     "data": {
      "image/png": "[encoded data removed]",
      "text/plain": [
       "<Figure size 432x288 with 2 Axes>"
      ]
     },
     "metadata": {
      "needs_background": "light"
     },
     "output_type": "display_data"
    },
    {
     "name": "stdout",
     "output_type": "stream",
     "text": [
      "[3/5] Training the original model and embedding the watermark\n",
      "WARNING:tensorflow:From /home/overholt/Desktop/Watermark/venv/lib/python3.6/site-packages/tensorflow/python/ops/math_ops.py:3066: to_int32 (from tensorflow.python.ops.math_ops) is deprecated and will be removed in a future version.\n",
      "Instructions for updating:\n",
      "Use tf.cast instead.\n",
      "      Skipping embedding of wm and use a cached entry instead\n",
      "5000/5000 [==============================] - 2s 421us/step\n",
      "    Done! Original models accuracy on attackers data: 0.9912\n",
      "[4/5] Labeling the attackers data with the original model\n",
      "[5/5] Training the surrogate model\n",
      "Train on 5000 samples, validate on 10000 samples\n",
      "Epoch 1/15\n",
      "5000/5000 [==============================] - 11s 2ms/step - loss: 0.5211 - acc: 0.8456 - val_loss: 0.1650 - val_acc: 0.9465\n",
      "=> Time: : 10.861080408096313\n",
      "=> watermark_new_val: 0.0\n",
      "=> watermark_val: 0.0\n",
      "Epoch 2/15\n",
      "5000/5000 [==============================] - 13s 3ms/step - loss: 0.1332 - acc: 0.9608 - val_loss: 0.1085 - val_acc: 0.9671\n",
      "=> Time: : 13.067296266555786\n",
      "=> watermark_new_val: 0.0\n",
      "=> watermark_val: 0.0\n",
      "Epoch 3/15\n",
      "5000/5000 [==============================] - 10s 2ms/step - loss: 0.0806 - acc: 0.9816 - val_loss: 0.0970 - val_acc: 0.9712\n",
      "=> Time: : 9.959033250808716\n",
      "=> watermark_new_val: 0.0\n",
      "=> watermark_val: 0.0\n",
      "Epoch 4/15\n",
      "5000/5000 [==============================] - 10s 2ms/step - loss: 0.0588 - acc: 0.9890 - val_loss: 0.0771 - val_acc: 0.9761\n",
      "=> Time: : 10.290990829467773\n",
      "=> watermark_new_val: 0.0\n",
      "=> watermark_val: 0.0\n",
      "Epoch 5/15\n",
      "5000/5000 [==============================] - 13s 3ms/step - loss: 0.0504 - acc: 0.9908 - val_loss: 0.0744 - val_acc: 0.9771\n",
      "=> Time: : 12.712579727172852\n",
      "=> watermark_new_val: 0.0\n",
      "=> watermark_val: 0.0\n",
      "Epoch 6/15\n",
      "5000/5000 [==============================] - 16s 3ms/step - loss: 0.0466 - acc: 0.9942 - val_loss: 0.0659 - val_acc: 0.9802\n",
      "=> Time: : 16.15558910369873\n",
      "=> watermark_new_val: 0.0\n",
      "=> watermark_val: 0.0\n",
      "Epoch 7/15\n",
      " 896/5000 [====>.........................] - ETA: 9s - loss: 0.0529 - acc: 0.9911"
     ]
    }
   ],
   "source": [
    "surr_model, all_history = asiaccs_blackbox(\n",
    "     load_dataset_func=load_mnist_images,  # Which dataset to choose. Should return training and testing data\n",
    "     dataset_label=\"MNIST\",  # Label of the dataset (for caching)\n",
    "     model=get_lenet_model_for_mnist(),  # Model specification for wm_embedding\n",
    "     surrogate_model=get_lenet_model_for_mnist(),\n",
    "     wm_type=\"logo\",\n",
    "     owner_data_size=30000,\n",
    "     total_owner_data_size=30000,\n",
    "     key_length=2000,\n",
    "     key_length_test=1000,\n",
    "     attacker_data_size=30000,\n",
    "     total_attacker_data_size=5000,\n",
    "     epochs_embed=20,\n",
    "     epochs_surr=15,\n",
    "     batchsize_surr=64,\n",
    "     cache_embed_wm=\"asiaccs_logo_mnist_3000\",\n",
    "     cache_surr_model=None,\n",
    "     verbose=True\n",
    ")"
   ]
  },
  {
   "cell_type": "code",
   "execution_count": null,
   "metadata": {},
   "outputs": [],
   "source": [
    "embed_history, surr_history = all_history\n",
    "for history in all_history:\n",
    "    print(history.history.keys())\n",
    "    \n",
    "last_index = 17\n",
    "surr_history_cut = {}\n",
    "surr_history_cut[\"watermark_val\"] = surr_history.history[\"watermark_val\"][:last_index]\n",
    "surr_history_cut[\"val_acc\"] = surr_history.history[\"val_acc\"][:last_index]\n",
    "surr_history_cut[\"time\"] = surr_history.history[\"time\"][0:last_index]\n",
    "\n",
    "plt.figure(figsize=(20,10))\n",
    "params = {'legend.fontsize': 20,\n",
    "          'legend.handlelength': 2,\n",
    "          'font.size': 16}\n",
    "test_acc_color = \"navy\"\n",
    "linestyle_test_acc = \"x-\"\n",
    "linestyle_watermark = \"x--\"\n",
    "watermark_ret_color = \"green\"\n",
    "watermark_ret_color2 = \"green\"\n",
    "linewidth = 3.0\n",
    "markersize = 12\n",
    "\n",
    "# Create the x axis by joining together all time values\n",
    "time_arr = embed_history.history['time']\n",
    "x_axis_time = []\n",
    "for i in range(0, len(time_arr)):\n",
    "    t = time_arr[i]\n",
    "    for j in range(0,i):\n",
    "        t += time_arr[j]\n",
    "    x_axis_time.append(t/60)\n",
    "offset = x_axis_time[-1]\n",
    "print(offset)\n",
    "time_arr2 = surr_history_cut['time']\n",
    "for i in range(0, len(time_arr2)):\n",
    "    t = time_arr2[i]\n",
    "    for j in range(0,i):\n",
    "        t += time_arr2[j]\n",
    "    x_axis_time.append(t/60+offset)\n",
    "print(x_axis_time)\n",
    "    \n",
    "plt.xlabel('Time in min', fontsize=26)\n",
    "plt.ylabel('Accuracy', fontsize=26)\n",
    "\n",
    "lh1, lh2 = len(embed_history.history['val_acc']), len(surr_history_cut['watermark_val'])\n",
    "plt.plot(x_axis_time[:lh1], embed_history.history['val_acc'], linestyle_test_acc, linewidth=linewidth, markersize=markersize, color=test_acc_color)\n",
    "plt.plot(x_axis_time[:lh1], embed_history.history['watermark_val'], linestyle_watermark, linewidth=linewidth, markersize=markersize, color=watermark_ret_color2)\n",
    "\n",
    "plt.plot(x_axis_time[-lh2:], surr_history_cut['val_acc'], linestyle_test_acc, linewidth=linewidth, markersize=markersize, color=test_acc_color)\n",
    "plt.plot(x_axis_time[-lh2:], surr_history_cut['watermark_val'], linestyle_watermark, linewidth=linewidth, markersize=markersize, color=watermark_ret_color2)\n",
    "\n",
    "plt.axvline(x_axis_time[len(embed_history.history['val_acc'])-1], linestyle=':', color='red')\n",
    "\n",
    "# Annotate data points for surrogate model \n",
    "dat_y = surr_history_cut['val_acc']\n",
    "dat_x = x_axis_time[-lh2:]\n",
    "ctr = 0\n",
    "for xy in zip(dat_x, dat_y):    \n",
    "    if ctr % 3 == 0 or ctr == len(dat_y)-1:\n",
    "        plt.annotate(\"{:.3f}\".format(xy[1]), xy=(xy[0], xy[1]+0.02), textcoords='data', fontsize=14) # <--  \n",
    "    ctr += 1\n",
    "\n",
    "# Annotate data points for watermark model \n",
    "dat_y = embed_history.history['val_acc']\n",
    "dat_x = x_axis_time[:lh1]\n",
    "ctr = 0\n",
    "for xy in zip(dat_x, dat_y):    \n",
    "    if ctr % 3 == 0 or ctr == len(dat_y):\n",
    "        plt.annotate(\"{:.3f}\".format(xy[1]), xy=(xy[0], xy[1]+0.02), textcoords='data', fontsize=14) # <--  \n",
    "    ctr += 1\n",
    "\n",
    "plt.ylim(0,1.05)\n",
    "plt.xlim(0)\n",
    "\n",
    "plt.grid()\n",
    "\n",
    "plt.legend(['test accuracy', 'wm retention'], loc='lower left')\n",
    "plt.show()"
   ]
  },
  {
   "cell_type": "code",
   "execution_count": null,
   "metadata": {},
   "outputs": [],
   "source": []
  }
 ],
 "metadata": {
  "kernelspec": {
   "display_name": "Python 3",
   "language": "python",
   "name": "python3"
  },
  "language_info": {
   "codemirror_mode": {
    "name": "ipython",
    "version": 3
   },
   "file_extension": ".py",
   "mimetype": "text/x-python",
   "name": "python",
   "nbconvert_exporter": "python",
   "pygments_lexer": "ipython3",
   "version": "3.6.7"
  }
 },
 "nbformat": 4,
 "nbformat_minor": 2
}
