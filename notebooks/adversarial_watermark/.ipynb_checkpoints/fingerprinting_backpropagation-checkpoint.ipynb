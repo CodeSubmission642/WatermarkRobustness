{
 "cells": [
  {
   "cell_type": "code",
   "execution_count": 1,
   "metadata": {},
   "outputs": [
    {
     "name": "stderr",
     "output_type": "stream",
     "text": [
      "Using TensorFlow backend.\n"
     ]
    },
    {
     "name": "stdout",
     "output_type": "stream",
     "text": [
      "WARNING:tensorflow:From /home/nlukas/anaconda3/envs/watermark/lib/python3.7/site-packages/tensorflow/python/framework/op_def_library.py:263: colocate_with (from tensorflow.python.framework.ops) is deprecated and will be removed in a future version.\n",
      "Instructions for updating:\n",
      "Colocations handled automatically by placer.\n"
     ]
    }
   ],
   "source": [
    "import sys, os\n",
    "base_path = os.getcwd()[0:os.getcwd().rfind('Watermark')] + \"Watermark/\"\n",
    "sys.path.append(base_path) \n",
    "\n",
    "%matplotlib inline \n",
    "import matplotlib.pyplot as plt\n",
    "import numpy as np\n",
    "\n",
    "import tensorflow as tf\n",
    "from keras import backend as K\n",
    "\n",
    "from cleverhans.attacks import FastGradientMethod\n",
    "from cleverhans.utils_keras import KerasModelWrapper\n",
    "\n",
    "from src.adversarial_main import adversarial_blackbox, zerobit_embed, blackmarks_embed\n",
    "from src.models import get_deep_cnn_for_cifar, get_lenet_model_for_mnist\n",
    "from src.preprocess_data import load_cifar_images, load_mnist_images\n",
    "from src.util import plot_blackbox, merge_histories\n",
    "from src.callbacks import AdditionalValidationSets"
   ]
  },
  {
   "cell_type": "code",
   "execution_count": 2,
   "metadata": {},
   "outputs": [],
   "source": [
    "sess = tf.Session()\n",
    "K.set_session(sess)"
   ]
  },
  {
   "cell_type": "code",
   "execution_count": 3,
   "metadata": {},
   "outputs": [],
   "source": [
    "split1 = 15000\n",
    "split2 = 30000\n",
    "split3 = 45000\n",
    "split4 = 60000\n",
    "\n",
    "retrain = False"
   ]
  },
  {
   "cell_type": "code",
   "execution_count": 4,
   "metadata": {},
   "outputs": [],
   "source": [
    "(x_train, y_train), (x_test, y_test) = load_mnist_images()"
   ]
  },
  {
   "cell_type": "code",
   "execution_count": 5,
   "metadata": {
    "scrolled": true
   },
   "outputs": [
    {
     "name": "stdout",
     "output_type": "stream",
     "text": [
      "Couldn't find weights.. \n",
      "WARNING:tensorflow:From /home/nlukas/anaconda3/envs/watermark/lib/python3.7/site-packages/tensorflow/python/ops/math_ops.py:3066: to_int32 (from tensorflow.python.ops.math_ops) is deprecated and will be removed in a future version.\n",
      "Instructions for updating:\n",
      "Use tf.cast instead.\n",
      "Train on 15000 samples, validate on 10000 samples\n",
      "Epoch 1/3\n",
      "15000/15000 [==============================] - 10s 651us/step - loss: 0.3750 - acc: 0.8823 - val_loss: 0.0930 - val_acc: 0.9731\n",
      "Epoch 2/3\n",
      "15000/15000 [==============================] - 9s 569us/step - loss: 0.0857 - acc: 0.9749 - val_loss: 0.1445 - val_acc: 0.9565\n",
      "Epoch 3/3\n",
      "15000/15000 [==============================] - 9s 569us/step - loss: 0.0654 - acc: 0.9799 - val_loss: 0.0639 - val_acc: 0.9800\n",
      "Train on 15000 samples, validate on 10000 samples\n",
      "Epoch 1/3\n",
      "15000/15000 [==============================] - 10s 638us/step - loss: 0.1452 - acc: 0.8803 - val_loss: 0.1348 - val_acc: 0.9616\n",
      "Epoch 2/3\n",
      "15000/15000 [==============================] - 9s 582us/step - loss: 0.0236 - acc: 0.9716 - val_loss: 0.1146 - val_acc: 0.9653\n",
      "Epoch 3/3\n",
      "15000/15000 [==============================] - 9s 585us/step - loss: 0.0197 - acc: 0.9807 - val_loss: 0.0990 - val_acc: 0.9716\n",
      "Train on 15000 samples, validate on 10000 samples\n",
      "Epoch 1/3\n",
      "15000/15000 [==============================] - 10s 649us/step - loss: 0.4086 - acc: 0.8727 - val_loss: 0.1190 - val_acc: 0.9611\n",
      "Epoch 2/3\n",
      "15000/15000 [==============================] - 8s 565us/step - loss: 0.0928 - acc: 0.9719 - val_loss: 0.0605 - val_acc: 0.9811\n",
      "Epoch 3/3\n",
      "15000/15000 [==============================] - 8s 565us/step - loss: 0.0690 - acc: 0.9781 - val_loss: 0.0627 - val_acc: 0.9795\n"
     ]
    }
   ],
   "source": [
    "# Embed the watermark into the model\n",
    "original_model = get_lenet_model_for_mnist()\n",
    "stolen_model = get_lenet_model_for_mnist()\n",
    "rnd_model = get_lenet_model_for_mnist()\n",
    "\n",
    "try: \n",
    "    if retrain:\n",
    "        raise NotImplementedError \n",
    "    rnd_model.load_weights(\"random_model\")\n",
    "    stolen_model.load_weights(\"stolen_model\")\n",
    "    original_model.load_weights(\"original_model\")\n",
    "except:\n",
    "    print(\"Couldn't find weights.. \")\n",
    "    original_model.fit(x_train[:split1],\n",
    "                        y_train[:split1],\n",
    "                        batch_size=64,\n",
    "                        epochs=3,\n",
    "                        validation_data=(x_test, y_test),\n",
    "                        verbose=1)\n",
    "    # Get the stolen model \n",
    "    y_pred = original_model.predict(x_train[split1:split2])\n",
    "    stolen_model.fit(x_train[split1:split2],\n",
    "                        y_pred,\n",
    "                        batch_size=64,\n",
    "                        epochs=3,\n",
    "                        validation_data=(x_test, y_test),\n",
    "                        verbose=1)\n",
    "    # Train a random model\n",
    "    rnd_model.fit(x_train[split2:split3],\n",
    "                        y_train[split2:split3],\n",
    "                        batch_size=64,\n",
    "                        epochs=3,\n",
    "                        validation_data=(x_test, y_test),\n",
    "                        verbose=1)\n",
    "    original_model.save_weights(\"original_model\")\n",
    "    rnd_model.save_weights(\"random_model\")\n",
    "    stolen_model.save_weights(\"stolen_model\")\n"
   ]
  },
  {
   "cell_type": "code",
   "execution_count": null,
   "metadata": {
    "scrolled": true
   },
   "outputs": [
    {
     "data": {
      "text/plain": [
       "<Figure size 576x216 with 0 Axes>"
      ]
     },
     "metadata": {},
     "output_type": "display_data"
    },
    {
     "data": {
      "image/png": "[encoded data removed]",
      "text/plain": [
       "<Figure size 648x216 with 2 Axes>"
      ]
     },
     "metadata": {
      "needs_background": "light"
     },
     "output_type": "display_data"
    },
    {
     "name": "stdout",
     "output_type": "stream",
     "text": [
      "Epoch (999/100000): 3.1924649590564513e-09\r"
     ]
    },
    {
     "data": {
      "text/plain": [
       "<Figure size 576x216 with 0 Axes>"
      ]
     },
     "metadata": {},
     "output_type": "display_data"
    },
    {
     "data": {
      "image/png": "[encoded data removed]",
      "text/plain": [
       "<Figure size 648x216 with 2 Axes>"
      ]
     },
     "metadata": {
      "needs_background": "light"
     },
     "output_type": "display_data"
    },
    {
     "name": "stdout",
     "output_type": "stream",
     "text": [
      "Epoch (1999/100000): 2.2987503012217303e-09\r"
     ]
    },
    {
     "data": {
      "text/plain": [
       "<Figure size 576x216 with 0 Axes>"
      ]
     },
     "metadata": {},
     "output_type": "display_data"
    },
    {
     "data": {
      "image/png": "[encoded data removed]",
      "text/plain": [
       "<Figure size 648x216 with 2 Axes>"
      ]
     },
     "metadata": {
      "needs_background": "light"
     },
     "output_type": "display_data"
    },
    {
     "name": "stdout",
     "output_type": "stream",
     "text": [
      "Epoch (2999/100000): 1.795364301671043e-099\r"
     ]
    },
    {
     "data": {
      "text/plain": [
       "<Figure size 576x216 with 0 Axes>"
      ]
     },
     "metadata": {},
     "output_type": "display_data"
    },
    {
     "data": {
      "image/png": "[encoded data removed]",
      "text/plain": [
       "<Figure size 648x216 with 2 Axes>"
      ]
     },
     "metadata": {
      "needs_background": "light"
     },
     "output_type": "display_data"
    },
    {
     "name": "stdout",
     "output_type": "stream",
     "text": [
      "Epoch (3999/100000): 1.4621750477061823e-09\r"
     ]
    },
    {
     "data": {
      "text/plain": [
       "<Figure size 576x216 with 0 Axes>"
      ]
     },
     "metadata": {},
     "output_type": "display_data"
    },
    {
     "data": {
      "image/png": "[encoded data removed]",
      "text/plain": [
       "<Figure size 648x216 with 2 Axes>"
      ]
     },
     "metadata": {
      "needs_background": "light"
     },
     "output_type": "display_data"
    },
    {
     "name": "stdout",
     "output_type": "stream",
     "text": [
      "Epoch (4999/100000): 1.2368454038735877e-09\r"
     ]
    },
    {
     "data": {
      "text/plain": [
       "<Figure size 576x216 with 0 Axes>"
      ]
     },
     "metadata": {},
     "output_type": "display_data"
    },
    {
     "data": {
      "image/png": "[encoded data removed]",
      "text/plain": [
       "<Figure size 648x216 with 2 Axes>"
      ]
     },
     "metadata": {
      "needs_background": "light"
     },
     "output_type": "display_data"
    },
    {
     "name": "stdout",
     "output_type": "stream",
     "text": [
      "Epoch (5999/100000): 1.0717337017851492e-09\r"
     ]
    },
    {
     "data": {
      "text/plain": [
       "<Figure size 576x216 with 0 Axes>"
      ]
     },
     "metadata": {},
     "output_type": "display_data"
    },
    {
     "data": {
      "image/png": "[encoded data removed]",
      "text/plain": [
       "<Figure size 648x216 with 2 Axes>"
      ]
     },
     "metadata": {
      "needs_background": "light"
     },
     "output_type": "display_data"
    },
    {
     "name": "stdout",
     "output_type": "stream",
     "text": [
      "Epoch (6999/100000): 9.452274518650938e-109\r"
     ]
    },
    {
     "data": {
      "text/plain": [
       "<Figure size 576x216 with 0 Axes>"
      ]
     },
     "metadata": {},
     "output_type": "display_data"
    },
    {
     "data": {
      "image/png": "[encoded data removed]",
      "text/plain": [
       "<Figure size 648x216 with 2 Axes>"
      ]
     },
     "metadata": {
      "needs_background": "light"
     },
     "output_type": "display_data"
    },
    {
     "name": "stdout",
     "output_type": "stream",
     "text": [
      "Epoch (7999/100000): 8.453210353920326e-10\r"
     ]
    },
    {
     "data": {
      "text/plain": [
       "<Figure size 576x216 with 0 Axes>"
      ]
     },
     "metadata": {},
     "output_type": "display_data"
    },
    {
     "data": {
      "image/png": "[encoded data removed]",
      "text/plain": [
       "<Figure size 648x216 with 2 Axes>"
      ]
     },
     "metadata": {
      "needs_background": "light"
     },
     "output_type": "display_data"
    },
    {
     "name": "stdout",
     "output_type": "stream",
     "text": [
      "Epoch (8999/100000): 7.640330590419353e-10\r"
     ]
    },
    {
     "data": {
      "text/plain": [
       "<Figure size 576x216 with 0 Axes>"
      ]
     },
     "metadata": {},
     "output_type": "display_data"
    },
    {
     "data": {
      "image/png": "[encoded data removed]",
      "text/plain": [
       "<Figure size 648x216 with 2 Axes>"
      ]
     },
     "metadata": {
      "needs_background": "light"
     },
     "output_type": "display_data"
    },
    {
     "name": "stdout",
     "output_type": "stream",
     "text": [
      "Epoch (9999/100000): 6.974675281767873e-10\r"
     ]
    },
    {
     "data": {
      "text/plain": [
       "<Figure size 576x216 with 0 Axes>"
      ]
     },
     "metadata": {},
     "output_type": "display_data"
    },
    {
     "data": {
      "image/png": "[encoded data removed]",
      "text/plain": [
       "<Figure size 648x216 with 2 Axes>"
      ]
     },
     "metadata": {
      "needs_background": "light"
     },
     "output_type": "display_data"
    },
    {
     "name": "stdout",
     "output_type": "stream",
     "text": [
      "Epoch (10999/100000): 6.415531439429856e-10\r"
     ]
    },
    {
     "data": {
      "text/plain": [
       "<Figure size 576x216 with 0 Axes>"
      ]
     },
     "metadata": {},
     "output_type": "display_data"
    },
    {
     "data": {
      "image/png": "[encoded data removed]",
      "text/plain": [
       "<Figure size 648x216 with 2 Axes>"
      ]
     },
     "metadata": {
      "needs_background": "light"
     },
     "output_type": "display_data"
    },
    {
     "name": "stdout",
     "output_type": "stream",
     "text": [
      "Epoch (11000/100000): 6.415012965277356e-10\r",
      "Epoch (11001/100000): 6.414502262686028e-10\r",
      "Epoch (11002/100000): 6.413994890763774e-10\r",
      "Epoch (11003/100000): 6.413486408618496e-10\r",
      "Epoch (11004/100000): 6.412950170897602e-10\r",
      "Epoch (11005/100000): 6.412432251856615e-10\r",
      "Epoch (11006/100000): 6.411942088391243e-10\r",
      "Epoch (11007/100000): 6.411444153364698e-10\r",
      "Epoch (11008/100000): 6.410937891665469e-10\r",
      "Epoch (11009/100000): 6.410408870394235e-10\r",
      "Epoch (11010/100000): 6.409864861112169e-10\r",
      "Epoch (11011/100000): 6.409371922089235e-10\r",
      "Epoch (11012/100000): 6.408857888828834e-10\r",
      "Epoch (11013/100000): 6.408368835586487e-10\r",
      "Epoch (11014/100000): 6.407821495635346e-10\r",
      "Epoch (11015/100000): 6.407315233936117e-10\r",
      "Epoch (11016/100000): 6.406805086456302e-10\r",
      "Epoch (11017/100000): 6.406291608307413e-10\r",
      "Epoch (11018/100000): 6.405805885734139e-10\r",
      "Epoch (11019/100000): 6.405251329333339e-10\r",
      "Epoch (11020/100000): 6.404742292076548e-10\r",
      "Epoch (11021/100000): 6.404249353053615e-10\r",
      "Epoch (11022/100000): 6.403721997116918e-10\r",
      "Epoch (11023/100000): 6.403233498986083e-10\r",
      "Epoch (11024/100000): 6.40268782436948e-10\r",
      "Epoch (11025/100000): 6.402173791109078e-10\r",
      "Epoch (11026/100000): 6.401688068535805e-10\r",
      "Epoch (11027/100000): 6.401159047264571e-10\r",
      "Epoch (11028/100000): 6.400648899784755e-10\r",
      "Epoch (11029/100000): 6.400139862527965e-10\r",
      "Epoch (11030/100000): 6.399643037724445e-10\r",
      "Epoch (11031/100000): 6.3991090204496e-10\r",
      "Epoch (11032/100000): 6.398612750757593e-10\r",
      "Epoch (11033/100000): 6.398075402813674e-10\r",
      "Epoch (11034/100000): 6.397589680240401e-10\r",
      "Epoch (11035/100000): 6.397052332296482e-10\r",
      "Epoch (11036/100000): 6.396543850151204e-10\r",
      "Epoch (11037/100000): 6.396038698675e-10\r"
     ]
    }
   ],
   "source": [
    "# Generate adversarial samples\n",
    "from src.backpropagation_mnist import backprop_img\n",
    "from keras import losses\n",
    "\n",
    "def ttoh(y):\n",
    "    t_oh = [0]*10\n",
    "    for idx in y:\n",
    "        t_oh[idx] = len(y)\n",
    "    return t_oh\n",
    "\n",
    "def compute_loss(original_model,  # Original model for mnist\n",
    "                 stolen_model,  # Stolen model for mnist\n",
    "                 random_model,\n",
    "                 x,\n",
    "                 x_tensor,\n",
    "                 x_original):\n",
    "    original_pred = original_model.output\n",
    "    #stolen_pred = stolen_model(x_tensor)\n",
    "    #random_pred = random_model(x_tensor)\n",
    "\n",
    "    uniform_classes = K.constant(np.array(len(x) * (ttoh([3,8]))).reshape(-1, 10))\n",
    "\n",
    "    loss_user = losses.categorical_crossentropy(original_pred, uniform_classes)\n",
    "    #loss_stolen = losses.binary_crossentropy(original_pred, stolen_pred)\n",
    "    #loss_random = losses.binary_crossentropy(original_pred, random_pred)\n",
    "\n",
    "    # needs to make keras constant variable\n",
    "    #loss_img = K.mean(K.abs(x_tensor - x_original))\n",
    "\n",
    "    loss = loss_user #+ loss_stolen + loss_random # + loss_img\n",
    "    return loss\n",
    "\n",
    "keysize = 1\n",
    "stepsize = .1\n",
    "epochs = 100000\n",
    "plot_epoch_count = 1000\n",
    "trigger_x = backprop_img(original_model, stolen_model, rnd_model, (x_train[:keysize].copy(), y_train[:keysize].copy()), plot_epoch_count=plot_epoch_count, epochs=epochs, stepsize=stepsize, compute_loss_func=compute_loss)\n",
    "trigger_y = original_model.predict(trigger_x)\n",
    "trigger_true = y_train[:keysize]"
   ]
  },
  {
   "cell_type": "code",
   "execution_count": 7,
   "metadata": {},
   "outputs": [
    {
     "ename": "NameError",
     "evalue": "name 'trigger_x' is not defined",
     "output_type": "error",
     "traceback": [
      "\u001b[0;31m---------------------------------------------------------------------------\u001b[0m",
      "\u001b[0;31mNameError\u001b[0m                                 Traceback (most recent call last)",
      "\u001b[0;32m<ipython-input-7-7fa1488b0afd>\u001b[0m in \u001b[0;36m<module>\u001b[0;34m\u001b[0m\n\u001b[1;32m      1\u001b[0m \u001b[0;31m# Plot adversarial samples\u001b[0m\u001b[0;34m\u001b[0m\u001b[0;34m\u001b[0m\u001b[0;34m\u001b[0m\u001b[0m\n\u001b[0;32m----> 2\u001b[0;31m \u001b[0mrnd_idx\u001b[0m \u001b[0;34m=\u001b[0m \u001b[0mnp\u001b[0m\u001b[0;34m.\u001b[0m\u001b[0mrandom\u001b[0m\u001b[0;34m.\u001b[0m\u001b[0mrandint\u001b[0m\u001b[0;34m(\u001b[0m\u001b[0mlen\u001b[0m\u001b[0;34m(\u001b[0m\u001b[0mtrigger_x\u001b[0m\u001b[0;34m)\u001b[0m\u001b[0;34m,\u001b[0m \u001b[0msize\u001b[0m\u001b[0;34m=\u001b[0m\u001b[0;36m10\u001b[0m\u001b[0;34m)\u001b[0m\u001b[0;34m\u001b[0m\u001b[0;34m\u001b[0m\u001b[0m\n\u001b[0m\u001b[1;32m      3\u001b[0m \u001b[0mto_plot\u001b[0m \u001b[0;34m=\u001b[0m \u001b[0mtrigger_x\u001b[0m\u001b[0;34m[\u001b[0m\u001b[0mrnd_idx\u001b[0m\u001b[0;34m]\u001b[0m\u001b[0;34m\u001b[0m\u001b[0;34m\u001b[0m\u001b[0m\n\u001b[1;32m      4\u001b[0m \u001b[0mlabels\u001b[0m \u001b[0;34m=\u001b[0m \u001b[0mnp\u001b[0m\u001b[0;34m.\u001b[0m\u001b[0margmax\u001b[0m\u001b[0;34m(\u001b[0m\u001b[0mtrigger_y\u001b[0m\u001b[0;34m[\u001b[0m\u001b[0mrnd_idx\u001b[0m\u001b[0;34m]\u001b[0m\u001b[0;34m,\u001b[0m \u001b[0maxis\u001b[0m\u001b[0;34m=\u001b[0m\u001b[0;36m1\u001b[0m\u001b[0;34m)\u001b[0m\u001b[0;34m\u001b[0m\u001b[0;34m\u001b[0m\u001b[0m\n\u001b[1;32m      5\u001b[0m \u001b[0mnew_labels\u001b[0m \u001b[0;34m=\u001b[0m \u001b[0mnp\u001b[0m\u001b[0;34m.\u001b[0m\u001b[0margmax\u001b[0m\u001b[0;34m(\u001b[0m\u001b[0mrnd_model\u001b[0m\u001b[0;34m.\u001b[0m\u001b[0mpredict\u001b[0m\u001b[0;34m(\u001b[0m\u001b[0mtrigger_x\u001b[0m\u001b[0;34m[\u001b[0m\u001b[0mrnd_idx\u001b[0m\u001b[0;34m]\u001b[0m\u001b[0;34m)\u001b[0m\u001b[0;34m,\u001b[0m \u001b[0maxis\u001b[0m\u001b[0;34m=\u001b[0m\u001b[0;36m1\u001b[0m\u001b[0;34m)\u001b[0m\u001b[0;34m\u001b[0m\u001b[0;34m\u001b[0m\u001b[0m\n",
      "\u001b[0;31mNameError\u001b[0m: name 'trigger_x' is not defined"
     ]
    }
   ],
   "source": [
    "# Plot adversarial samples\n",
    "rnd_idx = np.random.randint(len(trigger_x), size=10)\n",
    "to_plot = trigger_x[rnd_idx]\n",
    "labels = np.argmax(trigger_y[rnd_idx], axis=1)\n",
    "new_labels = np.argmax(rnd_model.predict(trigger_x[rnd_idx]), axis=1)\n",
    "\n",
    "fig = plt.figure(figsize=(8, 3))\n",
    "for i in range(0, 10):\n",
    "    ax = plt.subplot(2, 5, 1 + i, xticks=[], yticks=[])\n",
    "    plt.title('{} -> {}'.format(labels[i], new_labels[i]), fontsize=10)\n",
    "    plt.imshow(np.reshape(to_plot[i], (28, 28)), cmap='gray')\n",
    "\n",
    "fig.suptitle(\"Adversarial samples, (top) false (bottom) true\", fontsize=16, y=0.06)\n",
    "plt.show()"
   ]
  },
  {
   "cell_type": "code",
   "execution_count": null,
   "metadata": {},
   "outputs": [],
   "source": [
    "stolen_loss = stolen_model.evaluate(trigger_x, trigger_y)\n",
    "random_loss = rnd_model.evaluate(trigger_x, trigger_y)\n",
    "original_loss = original_model.evaluate(trigger_x, trigger_y)\n",
    "print(\"Original Acc: {}, Stolen Acc: {}, Random Acc: {}\".format(original_loss[1], stolen_loss[1], random_loss[1]))"
   ]
  },
  {
   "cell_type": "code",
   "execution_count": null,
   "metadata": {},
   "outputs": [],
   "source": [
    "# Train a second random model\n",
    "rnd_model2 = get_lenet_model_for_mnist()\n",
    "rnd_history2 = AdditionalValidationSets([(s_triggers_x, s_triggers_y, 'watermark')])\n",
    "\n",
    "train_set2 = x_train[split1:split4]\n",
    "y_pred2 = y_train[split1:split4]\n",
    "\n",
    "rnd_history2 = rnd_model2.fit(train_set2,\n",
    "                    y_pred2,\n",
    "                    batch_size=64,\n",
    "                    epochs=10,\n",
    "                    validation_data=(x_test, y_test),\n",
    "                    callbacks=[rnd_history2],\n",
    "                    verbose=1)"
   ]
  },
  {
   "cell_type": "code",
   "execution_count": null,
   "metadata": {},
   "outputs": [],
   "source": [
    "# Plot adversarial samples\n",
    "rnd_idx = np.random.randint(len(s_triggers_x), size=10)\n",
    "to_plot = s_triggers_x[rnd_idx]\n",
    "labels = np.argmax(s_triggers_y[rnd_idx], axis=1)\n",
    "new_labels = np.argmax(rnd_model2.predict(to_plot), axis=1)\n",
    "\n",
    "fig = plt.figure(figsize=(8, 3))\n",
    "for i in range(0, 10):\n",
    "    ax = plt.subplot(2, 5, 1 + i, xticks=[], yticks=[])\n",
    "    plt.title('{} -> {}'.format(labels[i], new_labels[i]), fontsize=10)\n",
    "    plt.imshow(np.reshape(to_plot[i], (28, 28)), cmap='gray')\n",
    "\n",
    "fig.suptitle(\"Adversarial samples, (top) false (bottom) true\", fontsize=16, y=0.06)\n",
    "plt.show()"
   ]
  },
  {
   "cell_type": "code",
   "execution_count": null,
   "metadata": {},
   "outputs": [],
   "source": [
    "# Steal a second model \n",
    "stolen_model2 = get_lenet_model_for_mnist()\n",
    "\n",
    "train_set2 = x_train[split1:split4]\n",
    "y_pred2 = original_model.predict(train_set2)\n",
    "\n",
    "stolen_history2 = AdditionalValidationSets([(s_triggers_x, s_triggers_y, 'watermark')])\n",
    "stolen_model2.fit(train_set2,\n",
    "                    y_pred2,\n",
    "                    batch_size=64,\n",
    "                    epochs=10,\n",
    "                    validation_data=(x_test, y_test),\n",
    "                    callbacks=[stolen_history2],\n",
    "                    verbose=1)"
   ]
  },
  {
   "cell_type": "code",
   "execution_count": null,
   "metadata": {},
   "outputs": [],
   "source": [
    "# Plot adversarial samples\n",
    "rnd_idx = np.random.randint(len(s_triggers_x), size=10)\n",
    "to_plot = s_triggers_x[rnd_idx]\n",
    "labels = np.argmax(s_triggers_y[rnd_idx], axis=1)\n",
    "new_labels = np.argmax(stolen_model2.predict(to_plot), axis=1)\n",
    "\n",
    "fig = plt.figure(figsize=(8, 3))\n",
    "for i in range(0, 10):\n",
    "    ax = plt.subplot(2, 5, 1 + i, xticks=[], yticks=[])\n",
    "    plt.title('{} -> {}'.format(labels[i], new_labels[i]), fontsize=10)\n",
    "    plt.imshow(np.reshape(to_plot[i], (28, 28)), cmap='gray')\n",
    "\n",
    "fig.suptitle(\"Adversarial samples, (top) false (bottom) true\", fontsize=16, y=0.06)\n",
    "plt.show()"
   ]
  },
  {
   "cell_type": "code",
   "execution_count": null,
   "metadata": {},
   "outputs": [],
   "source": [
    "# Plot graphs \n",
    "all_history = (history, stolen_history2, rnd_history2)\n",
    "\n",
    "plt.figure(figsize=(20, 10))\n",
    "params = {'legend.fontsize': 20, 'legend.handlelength': 2, 'font.size': 16}\n",
    "plt.rcParams.update(params)\n",
    "color_original_acc = \"blue\"\n",
    "color_original_wm = \"green\"\n",
    "\n",
    "color_stolen_acc = \"yellow\"\n",
    "color_stolen_wm = \"green\"\n",
    "\n",
    "color_rnd_acc = \"red\"\n",
    "color_rnd_wm = \"lightgreen\"\n",
    "\n",
    "\n",
    "linestyle_test_acc = \"x-\"\n",
    "linestyle_watermark = \"x--\"\n",
    "fontsize_data_labels = 16\n",
    "linewidth = 3.0\n",
    "markersize = 12\n",
    "\n",
    "plt.xlabel('Epochs', fontsize=26)\n",
    "plt.ylabel('Accuracy', fontsize=26)\n",
    "\n",
    "o = len(history.history['val_acc'])-1\n",
    "\n",
    "original_acc_x, original_acc_y = np.arange(len(history.history['val_acc'])), history.history['val_acc']\n",
    "original_acc_line = plt.plot(original_acc_x,\n",
    "             original_acc_y,\n",
    "             linestyle_watermark,\n",
    "             linewidth=linewidth,\n",
    "             markersize=markersize,\n",
    "             color=color_original_acc)\n",
    "\n",
    "original_wm_x, original_wm_y = np.arange(len(history.history['watermark_val'])), history.history['watermark_val']\n",
    "original_wm_line = plt.plot(original_wm_x,\n",
    "             original_wm_y,\n",
    "             linestyle_watermark,\n",
    "             linewidth=linewidth,\n",
    "             markersize=markersize,\n",
    "             color=color_original_wm)\n",
    "\n",
    "stolen_acc_x, stolen_acc_y = np.arange(o,o+len(stolen_history2.history['acc'])), stolen_history2.history['acc']\n",
    "stolen_acc_line = plt.plot(stolen_acc_x,\n",
    "             stolen_acc_y,\n",
    "             linestyle_watermark,\n",
    "             linewidth=linewidth,\n",
    "             markersize=markersize,\n",
    "             color=color_stolen_acc)\n",
    "\n",
    "stolen_wm_x, stolen_wm_y = np.arange(o,o+len(stolen_history2.history['watermark_val'])), stolen_history2.history['watermark_val']\n",
    "stolen_wm_line = plt.plot(stolen_wm_x,\n",
    "             stolen_wm_y,\n",
    "             linestyle_watermark,\n",
    "             linewidth=linewidth,\n",
    "             markersize=markersize,\n",
    "             color=color_stolen_wm)\n",
    "\n",
    "rnd_acc_x, rnd_acc_y = np.arange(o,o+len(rnd_history2.history['acc'])), rnd_history2.history['acc']\n",
    "rnd_acc_line = plt.plot(rnd_acc_x,\n",
    "             rnd_acc_y,\n",
    "             linestyle_watermark,\n",
    "             linewidth=linewidth,\n",
    "             markersize=markersize,\n",
    "             color=color_rnd_acc)\n",
    "\n",
    "rnd_wm_x, rnd_wm_y = np.arange(o,o+len(rnd_history2.history['watermark_val'])), rnd_history2.history['watermark_val']\n",
    "rnd_wm_line = plt.plot(rnd_wm_x,\n",
    "             rnd_wm_y,\n",
    "             linestyle_watermark,\n",
    "             linewidth=linewidth,\n",
    "             markersize=markersize,\n",
    "             color=color_rnd_wm)\n",
    "\n",
    "plt.axvline(o,\n",
    "                linestyle=':',\n",
    "                linewidth=linewidth,\n",
    "                color='red')\n",
    "\n",
    "\n",
    "\n",
    "plt.ylim(0, 1.05)\n",
    "plt.xlim(0)\n",
    "\n",
    "plt.grid()\n",
    "\n",
    "plt.legend(['Owner Acc', 'Owner WM', 'Stolen Train Acc', 'Stolen WM', 'Rnd Train Acc', 'Rnd WM'],\n",
    "           loc='lower left')\n",
    "plt.show()\n",
    "    "
   ]
  },
  {
   "cell_type": "code",
   "execution_count": null,
   "metadata": {},
   "outputs": [],
   "source": [
    "# Test creation with backpropagation\n",
    "from src.backpropagation_mnist import backprop_img\n",
    "\n",
    "split = 100\n",
    "new_img = backprop_img(original_model, stolen_model, random_model, (x_train[:split], y_train[:split]), 10)"
   ]
  },
  {
   "cell_type": "code",
   "execution_count": null,
   "metadata": {},
   "outputs": [],
   "source": [
    "# Plot adversarial samples\n",
    "to_plot = new_img\n",
    "labels = np.argmax(original_model.predict(to_plot), axis=1)\n",
    "new_labels = np.argmax(stolen_model2.predict(to_plot), axis=1)\n",
    "\n",
    "fig = plt.figure(figsize=(8, 3))\n",
    "for i in range(0, 10):\n",
    "    ax = plt.subplot(2, 5, 1 + i, xticks=[], yticks=[])\n",
    "    plt.title('{} -> {}'.format(labels[i], new_labels[i]), fontsize=10)\n",
    "    plt.imshow(np.reshape(to_plot[i], (28, 28)), cmap='gray')\n",
    "\n",
    "fig.suptitle(\"Adversarial samples, (top) false (bottom) true\", fontsize=16, y=0.06)\n",
    "plt.show()"
   ]
  },
  {
   "cell_type": "code",
   "execution_count": null,
   "metadata": {},
   "outputs": [],
   "source": []
  }
 ],
 "metadata": {
  "kernelspec": {
   "display_name": "Python 3",
   "language": "python",
   "name": "python3"
  },
  "language_info": {
   "codemirror_mode": {
    "name": "ipython",
    "version": 3
   },
   "file_extension": ".py",
   "mimetype": "text/x-python",
   "name": "python",
   "nbconvert_exporter": "python",
   "pygments_lexer": "ipython3",
   "version": "3.7.3"
  }
 },
 "nbformat": 4,
 "nbformat_minor": 2
}
